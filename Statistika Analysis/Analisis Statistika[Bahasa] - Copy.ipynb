{
 "cells": [
  {
   "cell_type": "markdown",
   "id": "dbaf7f94-4d69-424f-a421-f3be0ffc15a3",
   "metadata": {
    "tags": []
   },
   "source": [
    "# Statistic analysis for house prices (python)"
   ]
  },
  {
   "cell_type": "code",
   "execution_count": 5,
   "id": "93920a35-e2d3-4d98-9d96-0eac4696310e",
   "metadata": {
    "tags": []
   },
   "outputs": [],
   "source": [
    "import pandas as pd\n",
    "import numpy as np\n",
    "import matplotlib.pyplot as plt\n",
    "import seaborn as sns\n",
    "import scipy.stats as st\n",
    "import statistics"
   ]
  },
  {
   "cell_type": "code",
   "execution_count": 2,
   "id": "dac3cd23-9994-4ef1-a2ff-62f5f465b03f",
   "metadata": {},
   "outputs": [
    {
     "data": {
      "text/html": [
       "<div>\n",
       "<style scoped>\n",
       "    .dataframe tbody tr th:only-of-type {\n",
       "        vertical-align: middle;\n",
       "    }\n",
       "\n",
       "    .dataframe tbody tr th {\n",
       "        vertical-align: top;\n",
       "    }\n",
       "\n",
       "    .dataframe thead th {\n",
       "        text-align: right;\n",
       "    }\n",
       "</style>\n",
       "<table border=\"1\" class=\"dataframe\">\n",
       "  <thead>\n",
       "    <tr style=\"text-align: right;\">\n",
       "      <th></th>\n",
       "      <th>Id</th>\n",
       "      <th>MSSubClass</th>\n",
       "      <th>MSZoning</th>\n",
       "      <th>LotFrontage</th>\n",
       "      <th>LotArea</th>\n",
       "      <th>Street</th>\n",
       "      <th>Alley</th>\n",
       "      <th>LotShape</th>\n",
       "      <th>LandContour</th>\n",
       "      <th>Utilities</th>\n",
       "      <th>...</th>\n",
       "      <th>PoolArea</th>\n",
       "      <th>PoolQC</th>\n",
       "      <th>Fence</th>\n",
       "      <th>MiscFeature</th>\n",
       "      <th>MiscVal</th>\n",
       "      <th>MoSold</th>\n",
       "      <th>YrSold</th>\n",
       "      <th>SaleType</th>\n",
       "      <th>SaleCondition</th>\n",
       "      <th>SalePrice</th>\n",
       "    </tr>\n",
       "  </thead>\n",
       "  <tbody>\n",
       "    <tr>\n",
       "      <th>0</th>\n",
       "      <td>1</td>\n",
       "      <td>60</td>\n",
       "      <td>RL</td>\n",
       "      <td>65.0</td>\n",
       "      <td>8450</td>\n",
       "      <td>Pave</td>\n",
       "      <td>NaN</td>\n",
       "      <td>Reg</td>\n",
       "      <td>Lvl</td>\n",
       "      <td>AllPub</td>\n",
       "      <td>...</td>\n",
       "      <td>0</td>\n",
       "      <td>NaN</td>\n",
       "      <td>NaN</td>\n",
       "      <td>NaN</td>\n",
       "      <td>0</td>\n",
       "      <td>2</td>\n",
       "      <td>2008</td>\n",
       "      <td>WD</td>\n",
       "      <td>Normal</td>\n",
       "      <td>208500</td>\n",
       "    </tr>\n",
       "    <tr>\n",
       "      <th>1</th>\n",
       "      <td>2</td>\n",
       "      <td>20</td>\n",
       "      <td>RL</td>\n",
       "      <td>80.0</td>\n",
       "      <td>9600</td>\n",
       "      <td>Pave</td>\n",
       "      <td>NaN</td>\n",
       "      <td>Reg</td>\n",
       "      <td>Lvl</td>\n",
       "      <td>AllPub</td>\n",
       "      <td>...</td>\n",
       "      <td>0</td>\n",
       "      <td>NaN</td>\n",
       "      <td>NaN</td>\n",
       "      <td>NaN</td>\n",
       "      <td>0</td>\n",
       "      <td>5</td>\n",
       "      <td>2007</td>\n",
       "      <td>WD</td>\n",
       "      <td>Normal</td>\n",
       "      <td>181500</td>\n",
       "    </tr>\n",
       "    <tr>\n",
       "      <th>2</th>\n",
       "      <td>3</td>\n",
       "      <td>60</td>\n",
       "      <td>RL</td>\n",
       "      <td>68.0</td>\n",
       "      <td>11250</td>\n",
       "      <td>Pave</td>\n",
       "      <td>NaN</td>\n",
       "      <td>IR1</td>\n",
       "      <td>Lvl</td>\n",
       "      <td>AllPub</td>\n",
       "      <td>...</td>\n",
       "      <td>0</td>\n",
       "      <td>NaN</td>\n",
       "      <td>NaN</td>\n",
       "      <td>NaN</td>\n",
       "      <td>0</td>\n",
       "      <td>9</td>\n",
       "      <td>2008</td>\n",
       "      <td>WD</td>\n",
       "      <td>Normal</td>\n",
       "      <td>223500</td>\n",
       "    </tr>\n",
       "    <tr>\n",
       "      <th>3</th>\n",
       "      <td>4</td>\n",
       "      <td>70</td>\n",
       "      <td>RL</td>\n",
       "      <td>60.0</td>\n",
       "      <td>9550</td>\n",
       "      <td>Pave</td>\n",
       "      <td>NaN</td>\n",
       "      <td>IR1</td>\n",
       "      <td>Lvl</td>\n",
       "      <td>AllPub</td>\n",
       "      <td>...</td>\n",
       "      <td>0</td>\n",
       "      <td>NaN</td>\n",
       "      <td>NaN</td>\n",
       "      <td>NaN</td>\n",
       "      <td>0</td>\n",
       "      <td>2</td>\n",
       "      <td>2006</td>\n",
       "      <td>WD</td>\n",
       "      <td>Abnorml</td>\n",
       "      <td>140000</td>\n",
       "    </tr>\n",
       "    <tr>\n",
       "      <th>4</th>\n",
       "      <td>5</td>\n",
       "      <td>60</td>\n",
       "      <td>RL</td>\n",
       "      <td>84.0</td>\n",
       "      <td>14260</td>\n",
       "      <td>Pave</td>\n",
       "      <td>NaN</td>\n",
       "      <td>IR1</td>\n",
       "      <td>Lvl</td>\n",
       "      <td>AllPub</td>\n",
       "      <td>...</td>\n",
       "      <td>0</td>\n",
       "      <td>NaN</td>\n",
       "      <td>NaN</td>\n",
       "      <td>NaN</td>\n",
       "      <td>0</td>\n",
       "      <td>12</td>\n",
       "      <td>2008</td>\n",
       "      <td>WD</td>\n",
       "      <td>Normal</td>\n",
       "      <td>250000</td>\n",
       "    </tr>\n",
       "  </tbody>\n",
       "</table>\n",
       "<p>5 rows × 81 columns</p>\n",
       "</div>"
      ],
      "text/plain": [
       "   Id  MSSubClass MSZoning  LotFrontage  LotArea Street Alley LotShape  \\\n",
       "0   1          60       RL         65.0     8450   Pave   NaN      Reg   \n",
       "1   2          20       RL         80.0     9600   Pave   NaN      Reg   \n",
       "2   3          60       RL         68.0    11250   Pave   NaN      IR1   \n",
       "3   4          70       RL         60.0     9550   Pave   NaN      IR1   \n",
       "4   5          60       RL         84.0    14260   Pave   NaN      IR1   \n",
       "\n",
       "  LandContour Utilities  ... PoolArea PoolQC Fence MiscFeature MiscVal MoSold  \\\n",
       "0         Lvl    AllPub  ...        0    NaN   NaN         NaN       0      2   \n",
       "1         Lvl    AllPub  ...        0    NaN   NaN         NaN       0      5   \n",
       "2         Lvl    AllPub  ...        0    NaN   NaN         NaN       0      9   \n",
       "3         Lvl    AllPub  ...        0    NaN   NaN         NaN       0      2   \n",
       "4         Lvl    AllPub  ...        0    NaN   NaN         NaN       0     12   \n",
       "\n",
       "  YrSold  SaleType  SaleCondition  SalePrice  \n",
       "0   2008        WD         Normal     208500  \n",
       "1   2007        WD         Normal     181500  \n",
       "2   2008        WD         Normal     223500  \n",
       "3   2006        WD        Abnorml     140000  \n",
       "4   2008        WD         Normal     250000  \n",
       "\n",
       "[5 rows x 81 columns]"
      ]
     },
     "execution_count": 2,
     "metadata": {},
     "output_type": "execute_result"
    }
   ],
   "source": [
    "df = pd.read_csv('train.csv')\n",
    "df.head(5)"
   ]
  },
  {
   "cell_type": "code",
   "execution_count": 3,
   "id": "294514a0-7522-440c-9925-2a09661e6f87",
   "metadata": {
    "tags": []
   },
   "outputs": [
    {
     "data": {
      "text/plain": [
       "Index(['Id', 'MSSubClass', 'MSZoning', 'LotFrontage', 'LotArea', 'Street',\n",
       "       'Alley', 'LotShape', 'LandContour', 'Utilities', 'LotConfig',\n",
       "       'LandSlope', 'Neighborhood', 'Condition1', 'Condition2', 'BldgType',\n",
       "       'HouseStyle', 'OverallQual', 'OverallCond', 'YearBuilt', 'YearRemodAdd',\n",
       "       'RoofStyle', 'RoofMatl', 'Exterior1st', 'Exterior2nd', 'MasVnrType',\n",
       "       'MasVnrArea', 'ExterQual', 'ExterCond', 'Foundation', 'BsmtQual',\n",
       "       'BsmtCond', 'BsmtExposure', 'BsmtFinType1', 'BsmtFinSF1',\n",
       "       'BsmtFinType2', 'BsmtFinSF2', 'BsmtUnfSF', 'TotalBsmtSF', 'Heating',\n",
       "       'HeatingQC', 'CentralAir', 'Electrical', '1stFlrSF', '2ndFlrSF',\n",
       "       'LowQualFinSF', 'GrLivArea', 'BsmtFullBath', 'BsmtHalfBath', 'FullBath',\n",
       "       'HalfBath', 'BedroomAbvGr', 'KitchenAbvGr', 'KitchenQual',\n",
       "       'TotRmsAbvGrd', 'Functional', 'Fireplaces', 'FireplaceQu', 'GarageType',\n",
       "       'GarageYrBlt', 'GarageFinish', 'GarageCars', 'GarageArea', 'GarageQual',\n",
       "       'GarageCond', 'PavedDrive', 'WoodDeckSF', 'OpenPorchSF',\n",
       "       'EnclosedPorch', '3SsnPorch', 'ScreenPorch', 'PoolArea', 'PoolQC',\n",
       "       'Fence', 'MiscFeature', 'MiscVal', 'MoSold', 'YrSold', 'SaleType',\n",
       "       'SaleCondition', 'SalePrice'],\n",
       "      dtype='object')"
      ]
     },
     "execution_count": 3,
     "metadata": {},
     "output_type": "execute_result"
    }
   ],
   "source": [
    "df.columns"
   ]
  },
  {
   "cell_type": "code",
   "execution_count": 4,
   "id": "a7a0a563-f7af-4ed4-ba63-b42d9f57dc32",
   "metadata": {
    "tags": []
   },
   "outputs": [
    {
     "data": {
      "image/png": "[encoded data removed]",
      "text/plain": [
       "<Figure size 576x1440 with 2 Axes>"
      ]
     },
     "metadata": {
      "needs_background": "light"
     },
     "output_type": "display_data"
    }
   ],
   "source": [
    "plt.figure(figsize=(8, 20))\n",
    "heatmap = sns.heatmap(df.corr()[['SalePrice']].sort_values(by='SalePrice', ascending=False), vmin=-1, vmax=1, annot=True, cmap='BrBG')\n",
    "heatmap.set_title('Features Correlating with Sales Price', fontdict={'fontsize':18}, pad=16);"
   ]
  },
  {
   "cell_type": "markdown",
   "id": "918c9f8d-4d6c-4851-875b-cfdb349a3fff",
   "metadata": {},
   "source": [
    "## Statistika deskriptif untuk kolom `SalePrice`"
   ]
  },
  {
   "cell_type": "markdown",
   "id": "3694d95a-f0d8-4536-b87e-ac772131b77d",
   "metadata": {},
   "source": [
    "Tunjukkan statistika deskriptif untuk variabel harga rumah (Column \n",
    "Name : `SalePrice`)!"
   ]
  },
  {
   "cell_type": "code",
   "execution_count": 5,
   "id": "de78266a-06b1-4485-9a82-f86daa426e5b",
   "metadata": {},
   "outputs": [
    {
     "data": {
      "text/plain": [
       "<AxesSubplot:xlabel='SalePrice', ylabel='Density'>"
      ]
     },
     "execution_count": 5,
     "metadata": {},
     "output_type": "execute_result"
    },
    {
     "data": {
      "image/png": "[encoded data removed]",
      "text/plain": [
       "<Figure size 432x288 with 1 Axes>"
      ]
     },
     "metadata": {},
     "output_type": "display_data"
    }
   ],
   "source": [
    "sns.set_style(\"dark\")\n",
    "sns.kdeplot(df['SalePrice'], shade=True, color=\"r\")\n",
    "# sns.kdeplot(df['OverallQual'], shade=True, color=\"b\")"
   ]
  },
  {
   "cell_type": "markdown",
   "id": "0338de8d-ef8b-4c0a-97a9-775249b3cdf9",
   "metadata": {},
   "source": [
    "Grafik persebaran berbentuk <b> Positivly skewed</b> dengan outlier berada di sebelah kanan dari nilai <b> median </b>"
   ]
  },
  {
   "cell_type": "markdown",
   "id": "b7cf3a45-efd5-48a6-970f-83f1f697ef4b",
   "metadata": {},
   "source": [
    "### Measure of Central Tendency"
   ]
  },
  {
   "cell_type": "code",
   "execution_count": 6,
   "id": "88f78cff-9f14-481f-a627-f10727445d46",
   "metadata": {},
   "outputs": [
    {
     "data": {
      "text/plain": [
       "180921.19589041095"
      ]
     },
     "execution_count": 6,
     "metadata": {},
     "output_type": "execute_result"
    }
   ],
   "source": [
    "saleprice = df['SalePrice']\n",
    "saleprice.mean() # mencari nilai mean pada data"
   ]
  },
  {
   "cell_type": "markdown",
   "id": "670f7228-b8cd-4b93-b21a-2edf301a8d27",
   "metadata": {},
   "source": [
    "Mean adalah nilai rata-rata, pada kasus data `SalePrice` rumah di Ames, Iowa, Amerika Serikat memiliki rata-rata sebesar <b>180.921,19</b> Dollar AS. Nilai mean merupakan repesentasi harga jual rumah di Ames, Iowa, Amerika Serikat"
   ]
  },
  {
   "cell_type": "code",
   "execution_count": 7,
   "id": "44547f50-cc02-4a4e-a69e-79b170843127",
   "metadata": {},
   "outputs": [
    {
     "data": {
      "text/plain": [
       "163000.0"
      ]
     },
     "execution_count": 7,
     "metadata": {},
     "output_type": "execute_result"
    }
   ],
   "source": [
    "saleprice.median() # mencari nilai median pada data"
   ]
  },
  {
   "cell_type": "code",
   "execution_count": 8,
   "id": "ba5d1dc4-fc27-4b72-92ec-950e621b4bc4",
   "metadata": {},
   "outputs": [
    {
     "data": {
      "text/plain": [
       "34900"
      ]
     },
     "execution_count": 8,
     "metadata": {},
     "output_type": "execute_result"
    }
   ],
   "source": [
    "saleprice.min() # nilai minimal dari kolom sale price"
   ]
  },
  {
   "cell_type": "code",
   "execution_count": 9,
   "id": "c6544294-b88c-4f65-9e1d-9cb7e2c9fbd6",
   "metadata": {},
   "outputs": [
    {
     "data": {
      "text/plain": [
       "755000"
      ]
     },
     "execution_count": 9,
     "metadata": {},
     "output_type": "execute_result"
    }
   ],
   "source": [
    "saleprice.max() # nilai maksimal dari kolom sale price"
   ]
  },
  {
   "cell_type": "markdown",
   "id": "987e9a94-7d19-49fd-83b5-18d3d99ed300",
   "metadata": {},
   "source": [
    "Median adalah nilai tengah, pada kasus data `SalePrice` nilai tengah dari harga rumah di Ames, Iowa, Amerika Serikat adalah <b>163.000</b> Dollar AS. Artinya nilai 50% dari data adalah nilai mininimal atau <b>39.900</b> sampai <b>163.000</b> dan 50% lain <b>163.000</b> sampai nilai maximum atau <b>755.000</b>"
   ]
  },
  {
   "cell_type": "code",
   "execution_count": 10,
   "id": "837a4652-ba99-425a-a932-2eab0918ea30",
   "metadata": {},
   "outputs": [
    {
     "data": {
      "text/plain": [
       "0    140000\n",
       "dtype: int64"
      ]
     },
     "execution_count": 10,
     "metadata": {},
     "output_type": "execute_result"
    }
   ],
   "source": [
    "saleprice.mode() # mencari nilai mode atau nilai terbanyak pada data"
   ]
  },
  {
   "cell_type": "markdown",
   "id": "e72c9739-3240-4083-9d1b-044e69c551be",
   "metadata": {},
   "source": [
    "Mode atau modus adalah nilai yang terbanyak, pada kasus data `SalePrice` harga rumah terbanyak di Ames, Lowa, Amerika Serikat adalah <b>140.000</b> Dollar AS. Artinya kebanyakan rumah di Ames, Iowa, Amerika Serikat dijual dengan harga <b>140.000</b> Dollar AS"
   ]
  },
  {
   "cell_type": "markdown",
   "id": "6a3572ee-2079-4a6f-975e-853f849555f3",
   "metadata": {},
   "source": [
    "### Measure of Spread"
   ]
  },
  {
   "cell_type": "code",
   "execution_count": 11,
   "id": "9b93180a-01fa-4f86-80bc-dd3bfbc4c123",
   "metadata": {},
   "outputs": [
    {
     "data": {
      "image/png": "[encoded data removed]",
      "text/plain": [
       "<Figure size 432x288 with 1 Axes>"
      ]
     },
     "metadata": {},
     "output_type": "display_data"
    }
   ],
   "source": [
    "ax = sns.boxplot(x=df[\"SalePrice\"], color='#44BBEE')"
   ]
  },
  {
   "cell_type": "markdown",
   "id": "950f946d-2abd-42c0-b4a8-d749628f8c66",
   "metadata": {},
   "source": [
    "Dari box plot dapat dilihat banyaknya outliers yang berada pada sebelah kanan dari nilai median"
   ]
  },
  {
   "cell_type": "code",
   "execution_count": 12,
   "id": "a8fd9ddf-f1ba-4106-ad5b-ff95ab5b14af",
   "metadata": {},
   "outputs": [
    {
     "name": "stdout",
     "output_type": "stream",
     "text": [
      "Range: 720100\n"
     ]
    }
   ],
   "source": [
    "print('Range:',df['SalePrice'].max()-df['SalePrice'].min()) # perhitungan range"
   ]
  },
  {
   "cell_type": "markdown",
   "id": "75e0b870-0900-4038-9c6c-06a7ef94cab2",
   "metadata": {},
   "source": [
    "range data adalah rentang nilai minimum dan maksimum. <b>nilai range</b> yang sebesar <b>720.100</b> Dollar AS mewakili perbedaan besar data minimum dan maksimum `SalePrice`. Artinya rentang harga jual rumah di Ames, Iowa, Amerika Serikat adalah <b>720.100</b> Dollar AS"
   ]
  },
  {
   "cell_type": "code",
   "execution_count": 13,
   "id": "6458fce6-e2c2-4a56-8a44-cf3bdd4d4ee5",
   "metadata": {},
   "outputs": [
    {
     "data": {
      "text/plain": [
       "6311111264.297451"
      ]
     },
     "execution_count": 13,
     "metadata": {},
     "output_type": "execute_result"
    }
   ],
   "source": [
    "df['SalePrice'].var()"
   ]
  },
  {
   "cell_type": "markdown",
   "id": "400e494b-3120-4026-895e-922435d68350",
   "metadata": {},
   "source": [
    "<b>nilai variance</b> yang sebesar <b>6311111264.29</b> digunakan untuk mengukur seberapa jauh penyebaran data dalam distribusi atau mengetahui tingkat keragamannya, dikarenakan nilai varian yang terbilang besar maka kita tarik kesimpulan data memiliki tingkat keragaman yang tinggi, atau dapat dikatakan harga jual rumah di Ames, Iowa, Amerika Serikat tidak dijual dengan harga yang sama."
   ]
  },
  {
   "cell_type": "code",
   "execution_count": 14,
   "id": "47dbdfc2-6d47-4cd9-8aa3-c0cfa1e6bcbd",
   "metadata": {},
   "outputs": [
    {
     "name": "stdout",
     "output_type": "stream",
     "text": [
      "Inter Quartile Range (IQR): 84025.0\n"
     ]
    }
   ],
   "source": [
    "print('Inter Quartile Range (IQR):',df['SalePrice'].quantile(0.75)-df['SalePrice'].quantile(0.25))"
   ]
  },
  {
   "cell_type": "code",
   "execution_count": 15,
   "id": "7e463676-dcfa-4460-87d8-bacc59269ed2",
   "metadata": {
    "tags": []
   },
   "outputs": [
    {
     "data": {
      "text/plain": [
       "214000.0"
      ]
     },
     "execution_count": 15,
     "metadata": {},
     "output_type": "execute_result"
    }
   ],
   "source": [
    "df['SalePrice'].quantile(0.75)"
   ]
  },
  {
   "cell_type": "code",
   "execution_count": 16,
   "id": "ce07ca3d-5327-466a-981c-798d7c88f1c3",
   "metadata": {
    "tags": []
   },
   "outputs": [
    {
     "data": {
      "text/plain": [
       "129975.0"
      ]
     },
     "execution_count": 16,
     "metadata": {},
     "output_type": "execute_result"
    }
   ],
   "source": [
    "df['SalePrice'].quantile(0.25)"
   ]
  },
  {
   "cell_type": "markdown",
   "id": "39d1bfe5-11a1-4b6f-be82-2094739d851b",
   "metadata": {},
   "source": [
    "<b>Inter Quartile Range</b> yang memiliki nilai <b>84025.0</b> digunakan untuk mengetahui persebaran data mulai dari 25% sampai 75%, Artinya dari nilai IQR dapat kita ketahui rentang 50% data harga rumah yang paling umum ditemukan, atau kasus `SalePrice` rumah di Ames, Iowa, Amerika Serikat, rentang harga dimulai dari <b>129.975</b> Dollar AS sampai <b>214.000</b>"
   ]
  },
  {
   "cell_type": "markdown",
   "id": "b6bf553c-3859-4865-930b-7c947ea86a37",
   "metadata": {},
   "source": [
    "### Kesimpulan"
   ]
  },
  {
   "cell_type": "markdown",
   "id": "e1e51722-8f3d-4aae-b39b-28de78255b2b",
   "metadata": {},
   "source": [
    "<b>nilai mean</b> atau rata-rata dari `SalePrice` adalah <b>180.921,19</b> Dollar AS, jika goalsnya adalah ingin memiliki harga yang lebih bersaing dari kebanyakan properti dengan asumsi fasilitas rumah dan tempat diabaikan, sebaiknya menggunakan harga jual dibawah <b>nilai median</b> yaitu sebesar <b>163.000,00</b> dollar AS. Hal ini dikarenakan grafik persebaran berbentuk <b> Positivly skewed</b> tidak disarankan menggunakan nilai mean karena data <b>not robust</b>.\n",
    "\n",
    "<b>nilai modus</b> atau mode mewakili harga pasaran rumah yaitu sekitar <b>140.000</b> dollar AS dengan asumsi fasilitas dan tempat diabaikan."
   ]
  },
  {
   "cell_type": "markdown",
   "id": "bc57007e-f9a8-448a-b542-b7a5909a146f",
   "metadata": {},
   "source": [
    "## Statistika deskriptif pada kolom `saleprice` untuk setiap tahunnya"
   ]
  },
  {
   "cell_type": "markdown",
   "id": "67054fdd-b7b5-4403-96b3-80d62f039a8e",
   "metadata": {},
   "source": [
    "### Measure of Central Tendency"
   ]
  },
  {
   "cell_type": "code",
   "execution_count": 17,
   "id": "cc3e087b-e892-40eb-8421-49d47379792c",
   "metadata": {},
   "outputs": [
    {
     "data": {
      "text/html": [
       "<div>\n",
       "<style scoped>\n",
       "    .dataframe tbody tr th:only-of-type {\n",
       "        vertical-align: middle;\n",
       "    }\n",
       "\n",
       "    .dataframe tbody tr th {\n",
       "        vertical-align: top;\n",
       "    }\n",
       "\n",
       "    .dataframe thead th {\n",
       "        text-align: right;\n",
       "    }\n",
       "</style>\n",
       "<table border=\"1\" class=\"dataframe\">\n",
       "  <thead>\n",
       "    <tr style=\"text-align: right;\">\n",
       "      <th></th>\n",
       "      <th>YrSold</th>\n",
       "      <th>SalePrice</th>\n",
       "    </tr>\n",
       "  </thead>\n",
       "  <tbody>\n",
       "    <tr>\n",
       "      <th>0</th>\n",
       "      <td>2006</td>\n",
       "      <td>163995.0</td>\n",
       "    </tr>\n",
       "    <tr>\n",
       "      <th>1</th>\n",
       "      <td>2007</td>\n",
       "      <td>167000.0</td>\n",
       "    </tr>\n",
       "    <tr>\n",
       "      <th>2</th>\n",
       "      <td>2008</td>\n",
       "      <td>164000.0</td>\n",
       "    </tr>\n",
       "    <tr>\n",
       "      <th>3</th>\n",
       "      <td>2009</td>\n",
       "      <td>162000.0</td>\n",
       "    </tr>\n",
       "    <tr>\n",
       "      <th>4</th>\n",
       "      <td>2010</td>\n",
       "      <td>155000.0</td>\n",
       "    </tr>\n",
       "  </tbody>\n",
       "</table>\n",
       "</div>"
      ],
      "text/plain": [
       "   YrSold  SalePrice\n",
       "0    2006   163995.0\n",
       "1    2007   167000.0\n",
       "2    2008   164000.0\n",
       "3    2009   162000.0\n",
       "4    2010   155000.0"
      ]
     },
     "execution_count": 17,
     "metadata": {},
     "output_type": "execute_result"
    }
   ],
   "source": [
    "dfg_yrsold_median = df.groupby(df['YrSold'])['SalePrice'].median().reset_index()\n",
    "dfg_yrsold_median"
   ]
  },
  {
   "cell_type": "code",
   "execution_count": 18,
   "id": "76e3cc4a-8c65-4ff7-bbec-18fb0f3b4456",
   "metadata": {},
   "outputs": [
    {
     "data": {
      "text/plain": [
       "<AxesSubplot:xlabel='YrSold', ylabel='SalePrice'>"
      ]
     },
     "execution_count": 18,
     "metadata": {},
     "output_type": "execute_result"
    },
    {
     "data": {
      "image/png": "[encoded data removed]",
      "text/plain": [
       "<Figure size 432x288 with 1 Axes>"
      ]
     },
     "metadata": {},
     "output_type": "display_data"
    }
   ],
   "source": [
    "sns.barplot(x='YrSold', y='SalePrice', data=dfg_yrsold_median)"
   ]
  },
  {
   "cell_type": "markdown",
   "id": "be0bafa9-19f7-4c66-bc64-77011a44fc3b",
   "metadata": {},
   "source": [
    "nilai median `SalePrice` dari tahun 2006 sampai 2010 menunjukan peningkatan harga rumah dari 2006 sebesar 163.995 menjadi 167000.0 pada tahun 2007. Penurunan data `SalePrice` terjadi pada tahun 2008 dan 2010 yang menunjukan tren penurunan `SalePrice`"
   ]
  },
  {
   "cell_type": "code",
   "execution_count": 19,
   "id": "2d0be4e8-2c84-40c4-82af-ff95a0fac024",
   "metadata": {},
   "outputs": [
    {
     "data": {
      "text/html": [
       "<div>\n",
       "<style scoped>\n",
       "    .dataframe tbody tr th:only-of-type {\n",
       "        vertical-align: middle;\n",
       "    }\n",
       "\n",
       "    .dataframe tbody tr th {\n",
       "        vertical-align: top;\n",
       "    }\n",
       "\n",
       "    .dataframe thead th {\n",
       "        text-align: right;\n",
       "    }\n",
       "</style>\n",
       "<table border=\"1\" class=\"dataframe\">\n",
       "  <thead>\n",
       "    <tr style=\"text-align: right;\">\n",
       "      <th></th>\n",
       "      <th>YrSold</th>\n",
       "      <th>SalePrice</th>\n",
       "    </tr>\n",
       "  </thead>\n",
       "  <tbody>\n",
       "    <tr>\n",
       "      <th>0</th>\n",
       "      <td>2006</td>\n",
       "      <td>182549.458599</td>\n",
       "    </tr>\n",
       "    <tr>\n",
       "      <th>1</th>\n",
       "      <td>2007</td>\n",
       "      <td>186063.151976</td>\n",
       "    </tr>\n",
       "    <tr>\n",
       "      <th>2</th>\n",
       "      <td>2008</td>\n",
       "      <td>177360.838816</td>\n",
       "    </tr>\n",
       "    <tr>\n",
       "      <th>3</th>\n",
       "      <td>2009</td>\n",
       "      <td>179432.103550</td>\n",
       "    </tr>\n",
       "    <tr>\n",
       "      <th>4</th>\n",
       "      <td>2010</td>\n",
       "      <td>177393.674286</td>\n",
       "    </tr>\n",
       "  </tbody>\n",
       "</table>\n",
       "</div>"
      ],
      "text/plain": [
       "   YrSold      SalePrice\n",
       "0    2006  182549.458599\n",
       "1    2007  186063.151976\n",
       "2    2008  177360.838816\n",
       "3    2009  179432.103550\n",
       "4    2010  177393.674286"
      ]
     },
     "execution_count": 19,
     "metadata": {},
     "output_type": "execute_result"
    }
   ],
   "source": [
    "dfg_yrsold_mean = df.groupby(df['YrSold'])['SalePrice'].mean().reset_index()\n",
    "dfg_yrsold_mean"
   ]
  },
  {
   "cell_type": "code",
   "execution_count": 20,
   "id": "4f47f5e1-1e57-4d03-b978-2baef947d80a",
   "metadata": {},
   "outputs": [
    {
     "data": {
      "text/plain": [
       "<AxesSubplot:xlabel='YrSold', ylabel='SalePrice'>"
      ]
     },
     "execution_count": 20,
     "metadata": {},
     "output_type": "execute_result"
    },
    {
     "data": {
      "image/png": "[encoded data removed]",
      "text/plain": [
       "<Figure size 432x288 with 1 Axes>"
      ]
     },
     "metadata": {},
     "output_type": "display_data"
    }
   ],
   "source": [
    "sns.barplot(x='YrSold', y='SalePrice', data=dfg_yrsold_mean)"
   ]
  },
  {
   "cell_type": "markdown",
   "id": "296e0ced-9880-4736-8f89-0b6bf8af7b07",
   "metadata": {},
   "source": [
    "nilai mean merupakan estimasi pemusatan data. `SalePrice` pada tahun 2006 - 2010 menunjukan kenaikan pada tahun 2007 namun memiliki tren melandai pada tahun 2008 - 2010."
   ]
  },
  {
   "cell_type": "code",
   "execution_count": 21,
   "id": "e9865ddc-fffc-4c92-b9ba-c6c2c06917ef",
   "metadata": {
    "tags": []
   },
   "outputs": [
    {
     "data": {
      "text/html": [
       "<div>\n",
       "<style scoped>\n",
       "    .dataframe tbody tr th:only-of-type {\n",
       "        vertical-align: middle;\n",
       "    }\n",
       "\n",
       "    .dataframe tbody tr th {\n",
       "        vertical-align: top;\n",
       "    }\n",
       "\n",
       "    .dataframe thead th {\n",
       "        text-align: right;\n",
       "    }\n",
       "</style>\n",
       "<table border=\"1\" class=\"dataframe\">\n",
       "  <thead>\n",
       "    <tr style=\"text-align: right;\">\n",
       "      <th></th>\n",
       "      <th>YrSold</th>\n",
       "      <th>level_1</th>\n",
       "      <th>SalePrice</th>\n",
       "    </tr>\n",
       "  </thead>\n",
       "  <tbody>\n",
       "    <tr>\n",
       "      <th>0</th>\n",
       "      <td>2006</td>\n",
       "      <td>0</td>\n",
       "      <td>140000</td>\n",
       "    </tr>\n",
       "    <tr>\n",
       "      <th>1</th>\n",
       "      <td>2007</td>\n",
       "      <td>0</td>\n",
       "      <td>129000</td>\n",
       "    </tr>\n",
       "    <tr>\n",
       "      <th>2</th>\n",
       "      <td>2007</td>\n",
       "      <td>1</td>\n",
       "      <td>144000</td>\n",
       "    </tr>\n",
       "    <tr>\n",
       "      <th>3</th>\n",
       "      <td>2008</td>\n",
       "      <td>0</td>\n",
       "      <td>140000</td>\n",
       "    </tr>\n",
       "    <tr>\n",
       "      <th>4</th>\n",
       "      <td>2009</td>\n",
       "      <td>0</td>\n",
       "      <td>110000</td>\n",
       "    </tr>\n",
       "    <tr>\n",
       "      <th>5</th>\n",
       "      <td>2010</td>\n",
       "      <td>0</td>\n",
       "      <td>128000</td>\n",
       "    </tr>\n",
       "    <tr>\n",
       "      <th>6</th>\n",
       "      <td>2010</td>\n",
       "      <td>1</td>\n",
       "      <td>140000</td>\n",
       "    </tr>\n",
       "    <tr>\n",
       "      <th>7</th>\n",
       "      <td>2010</td>\n",
       "      <td>2</td>\n",
       "      <td>143000</td>\n",
       "    </tr>\n",
       "    <tr>\n",
       "      <th>8</th>\n",
       "      <td>2010</td>\n",
       "      <td>3</td>\n",
       "      <td>155000</td>\n",
       "    </tr>\n",
       "    <tr>\n",
       "      <th>9</th>\n",
       "      <td>2010</td>\n",
       "      <td>4</td>\n",
       "      <td>190000</td>\n",
       "    </tr>\n",
       "  </tbody>\n",
       "</table>\n",
       "</div>"
      ],
      "text/plain": [
       "   YrSold  level_1  SalePrice\n",
       "0    2006        0     140000\n",
       "1    2007        0     129000\n",
       "2    2007        1     144000\n",
       "3    2008        0     140000\n",
       "4    2009        0     110000\n",
       "5    2010        0     128000\n",
       "6    2010        1     140000\n",
       "7    2010        2     143000\n",
       "8    2010        3     155000\n",
       "9    2010        4     190000"
      ]
     },
     "execution_count": 21,
     "metadata": {},
     "output_type": "execute_result"
    }
   ],
   "source": [
    "dfg_yrsold_mode = df.groupby(df['YrSold'])['SalePrice'].apply(pd.Series.mode).reset_index()\n",
    "dfg_yrsold_mode"
   ]
  },
  {
   "cell_type": "code",
   "execution_count": 22,
   "id": "410563a9-ceab-4ab3-9a30-3ee80664eee4",
   "metadata": {},
   "outputs": [
    {
     "data": {
      "text/plain": [
       "<AxesSubplot:xlabel='YrSold', ylabel='SalePrice'>"
      ]
     },
     "execution_count": 22,
     "metadata": {},
     "output_type": "execute_result"
    },
    {
     "data": {
      "image/png": "[encoded data removed]",
      "text/plain": [
       "<Figure size 432x288 with 1 Axes>"
      ]
     },
     "metadata": {},
     "output_type": "display_data"
    }
   ],
   "source": [
    "sns.barplot(x='YrSold', y='SalePrice', data=dfg_yrsold_mode)"
   ]
  },
  {
   "cell_type": "markdown",
   "id": "7dab444e-2eb3-4f7c-85ec-05fcdfa75154",
   "metadata": {},
   "source": [
    "nilai mode atau angka terbanyak akan menunjukan `SalePrice` yang paling banyak muncul pada harga rumah pada tahun 2006 - 2010. pada tahun 2009 mengalami penurunan harga jual rumah terbanyak dari tahun sebelumnya. pada tahun 2010 mengalami kenaikan yang signifikan."
   ]
  },
  {
   "cell_type": "markdown",
   "id": "d60cec5b-7d8b-4e64-8701-4c3f774a8c66",
   "metadata": {},
   "source": [
    "### Measure of Spread"
   ]
  },
  {
   "cell_type": "code",
   "execution_count": 23,
   "id": "08f8f6ca-4553-41b4-8e69-af885eddd9cb",
   "metadata": {},
   "outputs": [
    {
     "data": {
      "text/plain": [
       "YrSold\n",
       "2006    589689\n",
       "2007    715700\n",
       "2008    406261\n",
       "2009    548033\n",
       "2010    556657\n",
       "Name: SalePrice, dtype: int64"
      ]
     },
     "execution_count": 23,
     "metadata": {},
     "output_type": "execute_result"
    }
   ],
   "source": [
    "dfg_yrsold_range = df.groupby(df['YrSold'])['SalePrice'].max()-df.groupby(['YrSold'])['SalePrice'].min() # perhitungan range\n",
    "dfg_yrsold_range"
   ]
  },
  {
   "cell_type": "markdown",
   "id": "f107b176-5819-4a53-b518-34a9ac68cf39",
   "metadata": {},
   "source": [
    "nilai range adalah nilai tertinggi dikurangi nilai terendah. Dari nilai range tahun 2007 yaitu 715.700 dapat di tarik kesimpulan perbedaan harga rumah yang sangat mencolok dibandingkan tahun sebelum atau sesudahnya. nilai range terkecil terdapat pada tahun 2008 yang hanya 406.261 Dollar AS."
   ]
  },
  {
   "cell_type": "code",
   "execution_count": 24,
   "id": "bb797075-1bcc-42a2-b96f-c93385d84edf",
   "metadata": {},
   "outputs": [
    {
     "data": {
      "text/html": [
       "<div>\n",
       "<style scoped>\n",
       "    .dataframe tbody tr th:only-of-type {\n",
       "        vertical-align: middle;\n",
       "    }\n",
       "\n",
       "    .dataframe tbody tr th {\n",
       "        vertical-align: top;\n",
       "    }\n",
       "\n",
       "    .dataframe thead th {\n",
       "        text-align: right;\n",
       "    }\n",
       "</style>\n",
       "<table border=\"1\" class=\"dataframe\">\n",
       "  <thead>\n",
       "    <tr style=\"text-align: right;\">\n",
       "      <th></th>\n",
       "      <th>YrSold</th>\n",
       "      <th>SalePrice</th>\n",
       "    </tr>\n",
       "  </thead>\n",
       "  <tbody>\n",
       "    <tr>\n",
       "      <th>0</th>\n",
       "      <td>2006</td>\n",
       "      <td>6.308623e+09</td>\n",
       "    </tr>\n",
       "    <tr>\n",
       "      <th>1</th>\n",
       "      <td>2007</td>\n",
       "      <td>7.356179e+09</td>\n",
       "    </tr>\n",
       "    <tr>\n",
       "      <th>2</th>\n",
       "      <td>2008</td>\n",
       "      <td>4.863055e+09</td>\n",
       "    </tr>\n",
       "    <tr>\n",
       "      <th>3</th>\n",
       "      <td>2009</td>\n",
       "      <td>6.541451e+09</td>\n",
       "    </tr>\n",
       "    <tr>\n",
       "      <th>4</th>\n",
       "      <td>2010</td>\n",
       "      <td>6.472408e+09</td>\n",
       "    </tr>\n",
       "  </tbody>\n",
       "</table>\n",
       "</div>"
      ],
      "text/plain": [
       "   YrSold     SalePrice\n",
       "0    2006  6.308623e+09\n",
       "1    2007  7.356179e+09\n",
       "2    2008  4.863055e+09\n",
       "3    2009  6.541451e+09\n",
       "4    2010  6.472408e+09"
      ]
     },
     "execution_count": 24,
     "metadata": {},
     "output_type": "execute_result"
    }
   ],
   "source": [
    "dfg_yrsold_var = df.groupby(df['YrSold'])['SalePrice'].var().reset_index()\n",
    "dfg_yrsold_var"
   ]
  },
  {
   "cell_type": "code",
   "execution_count": 25,
   "id": "fbe6920e-3911-41c0-89d1-951d2e8b3c50",
   "metadata": {},
   "outputs": [
    {
     "data": {
      "text/plain": [
       "<AxesSubplot:xlabel='YrSold', ylabel='SalePrice'>"
      ]
     },
     "execution_count": 25,
     "metadata": {},
     "output_type": "execute_result"
    },
    {
     "data": {
      "image/png": "[encoded data removed]",
      "text/plain": [
       "<Figure size 432x288 with 1 Axes>"
      ]
     },
     "metadata": {},
     "output_type": "display_data"
    }
   ],
   "source": [
    "sns.barplot(x='YrSold', y='SalePrice', data= dfg_yrsold_var)"
   ]
  },
  {
   "cell_type": "markdown",
   "id": "a1d6ee5c-c10d-45c5-81d6-118d1bcdaf4d",
   "metadata": {},
   "source": [
    "nilai varian adalah ukuran seberapa jauh sebuah kumpulan bilangan tersebar. pada data mengindikasikan nilai varian yang tinggi, artinya persebaran data condong menjauhi nilai rata-rata. hanya pada tahun 2008 harganya cenderung lebih tidak bervariasi dan mendekati nilai rata-ratanya."
   ]
  },
  {
   "cell_type": "code",
   "execution_count": 26,
   "id": "54a40c9d-7b8e-458b-bc39-c3b7b0c6ff29",
   "metadata": {},
   "outputs": [
    {
     "data": {
      "text/plain": [
       "YrSold\n",
       "2006    87407.5\n",
       "2007    89600.0\n",
       "2008    75750.0\n",
       "2009    87500.0\n",
       "2010    85150.0\n",
       "Name: SalePrice, dtype: float64"
      ]
     },
     "execution_count": 26,
     "metadata": {},
     "output_type": "execute_result"
    }
   ],
   "source": [
    "df.groupby(['YrSold'])['SalePrice'].quantile(0.75) - df.groupby(['YrSold'])['SalePrice'].quantile(0.25)"
   ]
  },
  {
   "cell_type": "markdown",
   "id": "d89a27ed-a604-496b-bef8-d0867e23db0a",
   "metadata": {},
   "source": [
    "Nilai IQR merupakan rentang nilai 50% yang paling sering muncul dari data `SalePrice`. rentang persebaran dapat memberikan info bahwasannya rentang harga rumah yang paling sering terjual adalah 87407.5 pada tahun 2006, 89600.0 pada tahun 2007, 75750.0 pada tahun 2008, 87500.0 pada tahun 2009, 85150.0 pada tahun 2010"
   ]
  },
  {
   "cell_type": "markdown",
   "id": "e43c4f33-0fb3-437e-ba16-d1d0d524e6fb",
   "metadata": {},
   "source": [
    "### Kesimpulan"
   ]
  },
  {
   "cell_type": "markdown",
   "id": "9f41a69e-5415-473e-928a-897a0a7b6314",
   "metadata": {},
   "source": [
    "Pada data dan sebelum melakukan pengujian hipotesis dapat kita ambil kesimpulan pergerakan harga rumah di Ames, Iowa, Amerika Serikat cenderung mengalami penurunan pada setiap tahunnya. Kenaikan harga rumah paling besar terjadi pada tahun 2007 selanjutnya terjadi penurunan pada setiap tahun berikutnya. "
   ]
  },
  {
   "cell_type": "markdown",
   "id": "7aca3d69-8c1b-47e0-9e43-f3222c9523ed",
   "metadata": {},
   "source": [
    "## Mengetahui persebaran distribusi terhadap `saleprice`"
   ]
  },
  {
   "cell_type": "markdown",
   "id": "33bb57c8-84a9-4c66-8e6d-7904c3c66cf4",
   "metadata": {},
   "source": [
    "Analisis persebaran distribusi pada saleprice digunakan untuk mengetahui persebaran harga rumah."
   ]
  },
  {
   "cell_type": "code",
   "execution_count": 27,
   "id": "facbf259-f178-4941-b200-ae943397626e",
   "metadata": {},
   "outputs": [
    {
     "data": {
      "text/plain": [
       "<AxesSubplot:xlabel='SalePrice', ylabel='Density'>"
      ]
     },
     "execution_count": 27,
     "metadata": {},
     "output_type": "execute_result"
    },
    {
     "data": {
      "image/png": "[encoded data removed]",
      "text/plain": [
       "<Figure size 432x288 with 1 Axes>"
      ]
     },
     "metadata": {},
     "output_type": "display_data"
    }
   ],
   "source": [
    "sns.set_style(\"dark\")\n",
    "sns.kdeplot(df['SalePrice'], shade=True, color=\"r\")\n",
    "# sns.kdeplot(df['OverallQual'], shade=True, color=\"b\")"
   ]
  },
  {
   "cell_type": "code",
   "execution_count": 28,
   "id": "a566bd1e-80f0-4ab8-9582-a68769af8c47",
   "metadata": {},
   "outputs": [],
   "source": [
    "data_2006 = df[df['YrSold'] == 2006]\n",
    "data_2007 = df[df['YrSold'] == 2007]\n",
    "data_2008 = df[df['YrSold'] == 2008]\n",
    "data_2009 = df[df['YrSold'] == 2009]\n",
    "data_2010 = df[df['YrSold'] == 2010]"
   ]
  },
  {
   "cell_type": "code",
   "execution_count": 44,
   "id": "87f1aa28-591a-43e0-994e-cd0a6d8a885a",
   "metadata": {},
   "outputs": [
    {
     "data": {
      "text/plain": [
       "<AxesSubplot:xlabel='SalePrice', ylabel='Density'>"
      ]
     },
     "execution_count": 44,
     "metadata": {},
     "output_type": "execute_result"
    },
    {
     "data": {
      "image/png": "[encoded data removed]",
      "text/plain": [
       "<Figure size 720x504 with 1 Axes>"
      ]
     },
     "metadata": {},
     "output_type": "display_data"
    }
   ],
   "source": [
    "plt.figure(figsize = (10,7))\n",
    "sns.kdeplot(data_2006['SalePrice'],label='2006')\n",
    "sns.kdeplot(data_2007['SalePrice'],label='2007')\n",
    "sns.kdeplot(data_2008['SalePrice'],label='2008')\n",
    "sns.kdeplot(data_2009['SalePrice'],label='2009')\n",
    "sns.kdeplot(data_2010['SalePrice'],label='2010')"
   ]
  },
  {
   "cell_type": "markdown",
   "id": "e2dc76e5-63f3-4fb6-96dc-13026db355eb",
   "metadata": {},
   "source": [
    "### Kesimpulan"
   ]
  },
  {
   "cell_type": "markdown",
   "id": "2b4958ff-ec6f-4cd1-b098-fba7ea35f956",
   "metadata": {},
   "source": [
    "persebaran data berbentuk skew ke kanan, artinya banyak outliers yang lebih besar dari nilai median. Sebaiknya untuk pengukuran pemusatan menggunakan median karena data akan robust atau tidak terpengaruh nilai outliers. jika nilai outliers hilang maka data akan memiliki rata-rata yang sangat berbeda jauh dari sebelumnya. nilai rata-rata juga tidak mewakili keseluruhan data, pada kasus ini penggunaan nilai rata-rata akan mewakili data yang berada di kanan dari nilai median, sehingga pengambilan keputusan akan kurang tepat. alternatif lain mengetahui persebaran data yang umum dapat menggunakan nilai IQR sehingga pengambilan keputusan dapat setidaknya mewakili 50% dari data yang paling umum ditemukan yaitu dari 129.975 Dollar AS sampai 214.000 Dollar AS."
   ]
  },
  {
   "cell_type": "markdown",
   "id": "42e04f01-9275-418e-b3f5-522ff7be27aa",
   "metadata": {},
   "source": [
    "## Pengujian Statistika"
   ]
  },
  {
   "cell_type": "markdown",
   "id": "623679f8-4274-4324-9ea3-3f076fe8fbd8",
   "metadata": {},
   "source": [
    "Karena ada pernyataan bahwa setiap tahunnya harga rumah itu \n",
    "pasti naik. (tahun terjual : YrSold, harga rumah : SalePrice) untuk itu pada kesempatan ini akan membuktikan apakah setiap tahun harga rumah mengalami kenaikan?"
   ]
  },
  {
   "cell_type": "markdown",
   "id": "4f51ec00-f7da-4e6c-977c-4c742573d4d7",
   "metadata": {},
   "source": [
    "Penentuan Hipotesis"
   ]
  },
  {
   "cell_type": "markdown",
   "id": "e360df95-8bff-4019-9477-67e977e6d780",
   "metadata": {},
   "source": [
    "H0 = Harga rumah <b>tidak mengalami kenaikan</b> pada setiap tahunnya <br>\n",
    "H1 = Harga rumah <b>mengalami kenaikan</b> pada setiap tahunnya <br>\n",
    "Toleransi error = 5%"
   ]
  },
  {
   "cell_type": "markdown",
   "id": "8c478e26-c8f5-4286-8b04-e107b7fab9e3",
   "metadata": {},
   "source": [
    "Asumsi data terdistribusi secara normal, solusinya jika data skew dapat menormalkan data terlebih dahulu dengan menggunakan logaritma dan menghapus outliers atau dapat juga mengubah analisis menjadi non parametrik. Analisis non parametrik tidak memerlukan asumsi normalitas namun power testnya lebih lemah."
   ]
  },
  {
   "cell_type": "code",
   "execution_count": 30,
   "id": "8f0c9e2d-bccf-4d67-8cad-eb15f27c575a",
   "metadata": {},
   "outputs": [],
   "source": [
    "price06 = df[df['YrSold'] == 2006].reset_index()\n",
    "price07 = df[df['YrSold'] == 2007].reset_index()\n",
    "price08 = df[df['YrSold'] == 2008].reset_index()\n",
    "price09 = df[df['YrSold'] == 2009].reset_index()\n",
    "price10 = df[df['YrSold'] == 2010].reset_index()"
   ]
  },
  {
   "cell_type": "markdown",
   "id": "f76d8e19-ce0d-4bca-a90e-73c491896ace",
   "metadata": {},
   "source": [
    "Pengujian menggunakan ANOVA"
   ]
  },
  {
   "cell_type": "code",
   "execution_count": 31,
   "id": "d2724a25-b090-4c75-bbf3-c9cf4f48e8e3",
   "metadata": {},
   "outputs": [
    {
     "data": {
      "text/plain": [
       "F_onewayResult(statistic=0.6455252211679311, pvalue=0.6300887663573457)"
      ]
     },
     "execution_count": 31,
     "metadata": {},
     "output_type": "execute_result"
    }
   ],
   "source": [
    "st.f_oneway(price06['SalePrice'],price07['SalePrice'],price08['SalePrice'],price09['SalePrice'],price10['SalePrice'])"
   ]
  },
  {
   "cell_type": "markdown",
   "id": "edd9455e-0731-4203-9c34-c0966044092c",
   "metadata": {},
   "source": [
    "uji non parametri menggunakan Kruskal"
   ]
  },
  {
   "cell_type": "code",
   "execution_count": 32,
   "id": "d7e6b25a-f2f4-4ac9-99e4-92350f5f9d7c",
   "metadata": {},
   "outputs": [
    {
     "data": {
      "text/plain": [
       "KruskalResult(statistic=1.645903303251481, pvalue=0.800519267418441)"
      ]
     },
     "execution_count": 32,
     "metadata": {},
     "output_type": "execute_result"
    }
   ],
   "source": [
    "st.kruskal(price06['SalePrice'],price07['SalePrice'],price08['SalePrice'],price09['SalePrice'],price10['SalePrice'])"
   ]
  },
  {
   "cell_type": "markdown",
   "id": "e9e7b8bd-0133-437f-9385-96753fa47aee",
   "metadata": {},
   "source": [
    "Karena P Value > dari alfa (toleransi error yaitu 0.05) pada pengujian parametrik dan non parametrik, maka H0 diterima. Sehingga harga rumah tidak mengalami kenaikan pada setiap tahunnya di Ames, Iowa, Amerika Serikat. Justru harga rumah cenderung turun setiap tahunnya"
   ]
  }
 ],
 "metadata": {
  "kernelspec": {
   "display_name": "Python 3 (ipykernel)",
   "language": "python",
   "name": "python3"
  },
  "language_info": {
   "codemirror_mode": {
    "name": "ipython",
    "version": 3
   },
   "file_extension": ".py",
   "mimetype": "text/x-python",
   "name": "python",
   "nbconvert_exporter": "python",
   "pygments_lexer": "ipython3",
   "version": "3.8.5"
  },
  "toc-autonumbering": true,
  "toc-showmarkdowntxt": true
 },
 "nbformat": 4,
 "nbformat_minor": 5
}

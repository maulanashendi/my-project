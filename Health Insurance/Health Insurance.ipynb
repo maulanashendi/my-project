{
  "cells": [
    {
      "cell_type": "code",
      "execution_count": null,
      "metadata": {
        "tags": [],
        "id": "tWfDXH_uCcIF"
      },
      "outputs": [],
      "source": [
        "import numpy as np\n",
        "import pandas as pd\n",
        "import matplotlib.pyplot as plt\n",
        "import seaborn as sns\n",
        "import os\n",
        "import warnings\n",
        "warnings.filterwarnings(\"ignore\")"
      ]
    },
    {
      "cell_type": "code",
      "execution_count": null,
      "metadata": {
        "id": "OMOtsMQyCcIL"
      },
      "outputs": [],
      "source": [
        "from matplotlib import rcParams\n",
        "\n",
        "rcParams['figure.figsize'] = 20, 4\n",
        "rcParams['lines.linewidth'] = 3\n",
        "rcParams['xtick.labelsize'] = 'x-large'\n",
        "rcParams['ytick.labelsize'] = 'x-large'"
      ]
    },
    {
      "cell_type": "code",
      "execution_count": null,
      "metadata": {
        "id": "ry72CFrJCcIM",
        "outputId": "0eaafc21-718c-4553-f547-d57172eb7d5e"
      },
      "outputs": [
        {
          "data": {
            "text/html": [
              "<div>\n",
              "<style scoped>\n",
              "    .dataframe tbody tr th:only-of-type {\n",
              "        vertical-align: middle;\n",
              "    }\n",
              "\n",
              "    .dataframe tbody tr th {\n",
              "        vertical-align: top;\n",
              "    }\n",
              "\n",
              "    .dataframe thead th {\n",
              "        text-align: right;\n",
              "    }\n",
              "</style>\n",
              "<table border=\"1\" class=\"dataframe\">\n",
              "  <thead>\n",
              "    <tr style=\"text-align: right;\">\n",
              "      <th></th>\n",
              "      <th>id</th>\n",
              "      <th>Gender</th>\n",
              "      <th>Age</th>\n",
              "      <th>Driving_License</th>\n",
              "      <th>Region_Code</th>\n",
              "      <th>Previously_Insured</th>\n",
              "      <th>Vehicle_Age</th>\n",
              "      <th>Vehicle_Damage</th>\n",
              "      <th>Annual_Premium</th>\n",
              "      <th>Policy_Sales_Channel</th>\n",
              "      <th>Vintage</th>\n",
              "      <th>Response</th>\n",
              "    </tr>\n",
              "  </thead>\n",
              "  <tbody>\n",
              "    <tr>\n",
              "      <th>0</th>\n",
              "      <td>1</td>\n",
              "      <td>Male</td>\n",
              "      <td>44</td>\n",
              "      <td>1</td>\n",
              "      <td>28.0</td>\n",
              "      <td>0</td>\n",
              "      <td>&gt; 2 Years</td>\n",
              "      <td>Yes</td>\n",
              "      <td>40454.0</td>\n",
              "      <td>26.0</td>\n",
              "      <td>217</td>\n",
              "      <td>1</td>\n",
              "    </tr>\n",
              "    <tr>\n",
              "      <th>1</th>\n",
              "      <td>2</td>\n",
              "      <td>Male</td>\n",
              "      <td>76</td>\n",
              "      <td>1</td>\n",
              "      <td>3.0</td>\n",
              "      <td>0</td>\n",
              "      <td>1-2 Year</td>\n",
              "      <td>No</td>\n",
              "      <td>33536.0</td>\n",
              "      <td>26.0</td>\n",
              "      <td>183</td>\n",
              "      <td>0</td>\n",
              "    </tr>\n",
              "    <tr>\n",
              "      <th>2</th>\n",
              "      <td>3</td>\n",
              "      <td>Male</td>\n",
              "      <td>47</td>\n",
              "      <td>1</td>\n",
              "      <td>28.0</td>\n",
              "      <td>0</td>\n",
              "      <td>&gt; 2 Years</td>\n",
              "      <td>Yes</td>\n",
              "      <td>38294.0</td>\n",
              "      <td>26.0</td>\n",
              "      <td>27</td>\n",
              "      <td>1</td>\n",
              "    </tr>\n",
              "    <tr>\n",
              "      <th>3</th>\n",
              "      <td>4</td>\n",
              "      <td>Male</td>\n",
              "      <td>21</td>\n",
              "      <td>1</td>\n",
              "      <td>11.0</td>\n",
              "      <td>1</td>\n",
              "      <td>&lt; 1 Year</td>\n",
              "      <td>No</td>\n",
              "      <td>28619.0</td>\n",
              "      <td>152.0</td>\n",
              "      <td>203</td>\n",
              "      <td>0</td>\n",
              "    </tr>\n",
              "    <tr>\n",
              "      <th>4</th>\n",
              "      <td>5</td>\n",
              "      <td>Female</td>\n",
              "      <td>29</td>\n",
              "      <td>1</td>\n",
              "      <td>41.0</td>\n",
              "      <td>1</td>\n",
              "      <td>&lt; 1 Year</td>\n",
              "      <td>No</td>\n",
              "      <td>27496.0</td>\n",
              "      <td>152.0</td>\n",
              "      <td>39</td>\n",
              "      <td>0</td>\n",
              "    </tr>\n",
              "  </tbody>\n",
              "</table>\n",
              "</div>"
            ],
            "text/plain": [
              "   id  Gender  Age  Driving_License  Region_Code  Previously_Insured  \\\n",
              "0   1    Male   44                1         28.0                   0   \n",
              "1   2    Male   76                1          3.0                   0   \n",
              "2   3    Male   47                1         28.0                   0   \n",
              "3   4    Male   21                1         11.0                   1   \n",
              "4   5  Female   29                1         41.0                   1   \n",
              "\n",
              "  Vehicle_Age Vehicle_Damage  Annual_Premium  Policy_Sales_Channel  Vintage  \\\n",
              "0   > 2 Years            Yes         40454.0                  26.0      217   \n",
              "1    1-2 Year             No         33536.0                  26.0      183   \n",
              "2   > 2 Years            Yes         38294.0                  26.0       27   \n",
              "3    < 1 Year             No         28619.0                 152.0      203   \n",
              "4    < 1 Year             No         27496.0                 152.0       39   \n",
              "\n",
              "   Response  \n",
              "0         1  \n",
              "1         0  \n",
              "2         1  \n",
              "3         0  \n",
              "4         0  "
            ]
          },
          "execution_count": 81,
          "metadata": {},
          "output_type": "execute_result"
        }
      ],
      "source": [
        "df = pd.read_csv('train.csv')\n",
        "df_corr = pd.read_csv('train.csv')\n",
        "df.head()"
      ]
    },
    {
      "cell_type": "markdown",
      "metadata": {
        "id": "RWKLHzOFCcIO"
      },
      "source": [
        "# Stage 1\n",
        "<br>Eksplorasi berbagai attributes\n",
        "<br>Target output olahan data\n",
        "<br>Mengecek apakah ada data\n",
        "<br>bermasalah.\n",
        "<br>Handling missing value\n",
        "<br>Handling duplicated data\n",
        "<br>Handling outlier data\n",
        "<br>Handling imbalanced data\n",
        "<br>Handling data redundan\n",
        "<br>Handling data bermasalah lainnya\n",
        "<br>Penjelasan proses handling untuk\n",
        "<br>setiap data yang bermasalah"
      ]
    },
    {
      "cell_type": "markdown",
      "metadata": {
        "id": "Bnmlj1nxCcIQ"
      },
      "source": [
        "## Eksplorasi Data"
      ]
    },
    {
      "cell_type": "code",
      "execution_count": null,
      "metadata": {
        "id": "Zi1E-Mg3CcIR",
        "outputId": "40b8889a-1472-4d8e-b95e-186df8b3e4e7"
      },
      "outputs": [
        {
          "data": {
            "text/plain": [
              "(381109, 12)"
            ]
          },
          "execution_count": 82,
          "metadata": {},
          "output_type": "execute_result"
        }
      ],
      "source": [
        "df.shape"
      ]
    },
    {
      "cell_type": "code",
      "execution_count": null,
      "metadata": {
        "id": "zIPIkcBjCcIS",
        "outputId": "e5f929fc-6fc0-4385-d896-15ccbabc57c7"
      },
      "outputs": [
        {
          "name": "stdout",
          "output_type": "stream",
          "text": [
            "<class 'pandas.core.frame.DataFrame'>\n",
            "RangeIndex: 381109 entries, 0 to 381108\n",
            "Data columns (total 12 columns):\n",
            " #   Column                Non-Null Count   Dtype  \n",
            "---  ------                --------------   -----  \n",
            " 0   id                    381109 non-null  int64  \n",
            " 1   Gender                381109 non-null  object \n",
            " 2   Age                   381109 non-null  int64  \n",
            " 3   Driving_License       381109 non-null  int64  \n",
            " 4   Region_Code           381109 non-null  float64\n",
            " 5   Previously_Insured    381109 non-null  int64  \n",
            " 6   Vehicle_Age           381109 non-null  object \n",
            " 7   Vehicle_Damage        381109 non-null  object \n",
            " 8   Annual_Premium        381109 non-null  float64\n",
            " 9   Policy_Sales_Channel  381109 non-null  float64\n",
            " 10  Vintage               381109 non-null  int64  \n",
            " 11  Response              381109 non-null  int64  \n",
            "dtypes: float64(3), int64(6), object(3)\n",
            "memory usage: 34.9+ MB\n"
          ]
        }
      ],
      "source": [
        "df.info()"
      ]
    },
    {
      "cell_type": "code",
      "execution_count": null,
      "metadata": {
        "id": "9Ck05vcUCcIT",
        "outputId": "c631c7c2-73ed-4b5b-b35c-a39008cf8e7a"
      },
      "outputs": [
        {
          "data": {
            "text/html": [
              "<div>\n",
              "<style scoped>\n",
              "    .dataframe tbody tr th:only-of-type {\n",
              "        vertical-align: middle;\n",
              "    }\n",
              "\n",
              "    .dataframe tbody tr th {\n",
              "        vertical-align: top;\n",
              "    }\n",
              "\n",
              "    .dataframe thead th {\n",
              "        text-align: right;\n",
              "    }\n",
              "</style>\n",
              "<table border=\"1\" class=\"dataframe\">\n",
              "  <thead>\n",
              "    <tr style=\"text-align: right;\">\n",
              "      <th></th>\n",
              "      <th>id</th>\n",
              "      <th>Age</th>\n",
              "      <th>Driving_License</th>\n",
              "      <th>Region_Code</th>\n",
              "      <th>Previously_Insured</th>\n",
              "      <th>Annual_Premium</th>\n",
              "      <th>Policy_Sales_Channel</th>\n",
              "      <th>Vintage</th>\n",
              "      <th>Response</th>\n",
              "    </tr>\n",
              "  </thead>\n",
              "  <tbody>\n",
              "    <tr>\n",
              "      <th>count</th>\n",
              "      <td>381109.000000</td>\n",
              "      <td>381109.000000</td>\n",
              "      <td>381109.000000</td>\n",
              "      <td>381109.000000</td>\n",
              "      <td>381109.000000</td>\n",
              "      <td>381109.000000</td>\n",
              "      <td>381109.000000</td>\n",
              "      <td>381109.000000</td>\n",
              "      <td>381109.000000</td>\n",
              "    </tr>\n",
              "    <tr>\n",
              "      <th>mean</th>\n",
              "      <td>190555.000000</td>\n",
              "      <td>38.822584</td>\n",
              "      <td>0.997869</td>\n",
              "      <td>26.388807</td>\n",
              "      <td>0.458210</td>\n",
              "      <td>30564.389581</td>\n",
              "      <td>112.034295</td>\n",
              "      <td>154.347397</td>\n",
              "      <td>0.122563</td>\n",
              "    </tr>\n",
              "    <tr>\n",
              "      <th>std</th>\n",
              "      <td>110016.836208</td>\n",
              "      <td>15.511611</td>\n",
              "      <td>0.046110</td>\n",
              "      <td>13.229888</td>\n",
              "      <td>0.498251</td>\n",
              "      <td>17213.155057</td>\n",
              "      <td>54.203995</td>\n",
              "      <td>83.671304</td>\n",
              "      <td>0.327936</td>\n",
              "    </tr>\n",
              "    <tr>\n",
              "      <th>min</th>\n",
              "      <td>1.000000</td>\n",
              "      <td>20.000000</td>\n",
              "      <td>0.000000</td>\n",
              "      <td>0.000000</td>\n",
              "      <td>0.000000</td>\n",
              "      <td>2630.000000</td>\n",
              "      <td>1.000000</td>\n",
              "      <td>10.000000</td>\n",
              "      <td>0.000000</td>\n",
              "    </tr>\n",
              "    <tr>\n",
              "      <th>25%</th>\n",
              "      <td>95278.000000</td>\n",
              "      <td>25.000000</td>\n",
              "      <td>1.000000</td>\n",
              "      <td>15.000000</td>\n",
              "      <td>0.000000</td>\n",
              "      <td>24405.000000</td>\n",
              "      <td>29.000000</td>\n",
              "      <td>82.000000</td>\n",
              "      <td>0.000000</td>\n",
              "    </tr>\n",
              "    <tr>\n",
              "      <th>50%</th>\n",
              "      <td>190555.000000</td>\n",
              "      <td>36.000000</td>\n",
              "      <td>1.000000</td>\n",
              "      <td>28.000000</td>\n",
              "      <td>0.000000</td>\n",
              "      <td>31669.000000</td>\n",
              "      <td>133.000000</td>\n",
              "      <td>154.000000</td>\n",
              "      <td>0.000000</td>\n",
              "    </tr>\n",
              "    <tr>\n",
              "      <th>75%</th>\n",
              "      <td>285832.000000</td>\n",
              "      <td>49.000000</td>\n",
              "      <td>1.000000</td>\n",
              "      <td>35.000000</td>\n",
              "      <td>1.000000</td>\n",
              "      <td>39400.000000</td>\n",
              "      <td>152.000000</td>\n",
              "      <td>227.000000</td>\n",
              "      <td>0.000000</td>\n",
              "    </tr>\n",
              "    <tr>\n",
              "      <th>max</th>\n",
              "      <td>381109.000000</td>\n",
              "      <td>85.000000</td>\n",
              "      <td>1.000000</td>\n",
              "      <td>52.000000</td>\n",
              "      <td>1.000000</td>\n",
              "      <td>540165.000000</td>\n",
              "      <td>163.000000</td>\n",
              "      <td>299.000000</td>\n",
              "      <td>1.000000</td>\n",
              "    </tr>\n",
              "  </tbody>\n",
              "</table>\n",
              "</div>"
            ],
            "text/plain": [
              "                  id            Age  Driving_License    Region_Code  \\\n",
              "count  381109.000000  381109.000000    381109.000000  381109.000000   \n",
              "mean   190555.000000      38.822584         0.997869      26.388807   \n",
              "std    110016.836208      15.511611         0.046110      13.229888   \n",
              "min         1.000000      20.000000         0.000000       0.000000   \n",
              "25%     95278.000000      25.000000         1.000000      15.000000   \n",
              "50%    190555.000000      36.000000         1.000000      28.000000   \n",
              "75%    285832.000000      49.000000         1.000000      35.000000   \n",
              "max    381109.000000      85.000000         1.000000      52.000000   \n",
              "\n",
              "       Previously_Insured  Annual_Premium  Policy_Sales_Channel  \\\n",
              "count       381109.000000   381109.000000         381109.000000   \n",
              "mean             0.458210    30564.389581            112.034295   \n",
              "std              0.498251    17213.155057             54.203995   \n",
              "min              0.000000     2630.000000              1.000000   \n",
              "25%              0.000000    24405.000000             29.000000   \n",
              "50%              0.000000    31669.000000            133.000000   \n",
              "75%              1.000000    39400.000000            152.000000   \n",
              "max              1.000000   540165.000000            163.000000   \n",
              "\n",
              "             Vintage       Response  \n",
              "count  381109.000000  381109.000000  \n",
              "mean      154.347397       0.122563  \n",
              "std        83.671304       0.327936  \n",
              "min        10.000000       0.000000  \n",
              "25%        82.000000       0.000000  \n",
              "50%       154.000000       0.000000  \n",
              "75%       227.000000       0.000000  \n",
              "max       299.000000       1.000000  "
            ]
          },
          "execution_count": 84,
          "metadata": {},
          "output_type": "execute_result"
        }
      ],
      "source": [
        "df.describe()"
      ]
    },
    {
      "cell_type": "markdown",
      "metadata": {
        "id": "CBhlv4awCcIV"
      },
      "source": [
        "## Target Output Data"
      ]
    },
    {
      "cell_type": "markdown",
      "metadata": {
        "id": "0uY5EdeoCcIW"
      },
      "source": [
        "Data clean pada akhir pre-procesing"
      ]
    },
    {
      "cell_type": "markdown",
      "metadata": {
        "id": "INx8VxLRCcIW"
      },
      "source": [
        "## Mengecek apakah ada data"
      ]
    },
    {
      "cell_type": "markdown",
      "metadata": {
        "id": "d8okw-qcCcIX"
      },
      "source": [
        "Null cek"
      ]
    },
    {
      "cell_type": "code",
      "execution_count": null,
      "metadata": {
        "id": "kwPkkzP2CcIY",
        "outputId": "7f571305-cc0f-4b51-88f9-908ec8ce8500"
      },
      "outputs": [
        {
          "data": {
            "text/plain": [
              "id                      0\n",
              "Gender                  0\n",
              "Age                     0\n",
              "Driving_License         0\n",
              "Region_Code             0\n",
              "Previously_Insured      0\n",
              "Vehicle_Age             0\n",
              "Vehicle_Damage          0\n",
              "Annual_Premium          0\n",
              "Policy_Sales_Channel    0\n",
              "Vintage                 0\n",
              "Response                0\n",
              "dtype: int64"
            ]
          },
          "execution_count": 85,
          "metadata": {},
          "output_type": "execute_result"
        }
      ],
      "source": [
        "df.isnull().sum()"
      ]
    },
    {
      "cell_type": "markdown",
      "metadata": {
        "id": "LN_OrzQ9CcIY"
      },
      "source": [
        "Duplicate cek"
      ]
    },
    {
      "cell_type": "code",
      "execution_count": null,
      "metadata": {
        "id": "ip1GdVBXCcIZ",
        "outputId": "2b236266-3c79-4aa7-eee2-c8261259f69a"
      },
      "outputs": [
        {
          "data": {
            "text/plain": [
              "0"
            ]
          },
          "execution_count": 86,
          "metadata": {},
          "output_type": "execute_result"
        }
      ],
      "source": [
        "df.duplicated().sum()"
      ]
    },
    {
      "cell_type": "markdown",
      "metadata": {
        "id": "CRXz1PLCCcIZ"
      },
      "source": [
        "Imbalanced cek"
      ]
    },
    {
      "cell_type": "code",
      "execution_count": null,
      "metadata": {
        "id": "TH3MKDheCcIa"
      },
      "outputs": [],
      "source": [
        "df['Driving_License'] = df['Driving_License'].astype('object')\n",
        "df['Region_Code'] = df['Region_Code'].astype('object')\n",
        "df['Previously_Insured'] = df['Previously_Insured'].astype('object')\n",
        "df['Response'] = df['Response'].astype('int')"
      ]
    },
    {
      "cell_type": "code",
      "execution_count": null,
      "metadata": {
        "id": "4EpzEoUHCcIa"
      },
      "outputs": [],
      "source": [
        "num = ['id', 'Age', 'Annual_Premium', 'Policy_Sales_Channel', 'Vintage']\n",
        "cat = ['Gender', 'Driving_License', 'Region_Code', 'Previously_Insured', 'Vehicle_Age', 'Vehicle_Damage', 'Response']"
      ]
    },
    {
      "cell_type": "code",
      "execution_count": null,
      "metadata": {
        "id": "wVpoiC4WCcIb",
        "outputId": "476ee5aa-2e30-4c69-a159-dccd4e10157c"
      },
      "outputs": [
        {
          "data": {
            "text/html": [
              "<div>\n",
              "<style scoped>\n",
              "    .dataframe tbody tr th:only-of-type {\n",
              "        vertical-align: middle;\n",
              "    }\n",
              "\n",
              "    .dataframe tbody tr th {\n",
              "        vertical-align: top;\n",
              "    }\n",
              "\n",
              "    .dataframe thead th {\n",
              "        text-align: right;\n",
              "    }\n",
              "</style>\n",
              "<table border=\"1\" class=\"dataframe\">\n",
              "  <thead>\n",
              "    <tr style=\"text-align: right;\">\n",
              "      <th></th>\n",
              "      <th>Response</th>\n",
              "    </tr>\n",
              "  </thead>\n",
              "  <tbody>\n",
              "    <tr>\n",
              "      <th>count</th>\n",
              "      <td>381109.000000</td>\n",
              "    </tr>\n",
              "    <tr>\n",
              "      <th>mean</th>\n",
              "      <td>0.122563</td>\n",
              "    </tr>\n",
              "    <tr>\n",
              "      <th>std</th>\n",
              "      <td>0.327936</td>\n",
              "    </tr>\n",
              "    <tr>\n",
              "      <th>min</th>\n",
              "      <td>0.000000</td>\n",
              "    </tr>\n",
              "    <tr>\n",
              "      <th>25%</th>\n",
              "      <td>0.000000</td>\n",
              "    </tr>\n",
              "    <tr>\n",
              "      <th>50%</th>\n",
              "      <td>0.000000</td>\n",
              "    </tr>\n",
              "    <tr>\n",
              "      <th>75%</th>\n",
              "      <td>0.000000</td>\n",
              "    </tr>\n",
              "    <tr>\n",
              "      <th>max</th>\n",
              "      <td>1.000000</td>\n",
              "    </tr>\n",
              "  </tbody>\n",
              "</table>\n",
              "</div>"
            ],
            "text/plain": [
              "            Response\n",
              "count  381109.000000\n",
              "mean        0.122563\n",
              "std         0.327936\n",
              "min         0.000000\n",
              "25%         0.000000\n",
              "50%         0.000000\n",
              "75%         0.000000\n",
              "max         1.000000"
            ]
          },
          "execution_count": 89,
          "metadata": {},
          "output_type": "execute_result"
        }
      ],
      "source": [
        "df[cat].describe()"
      ]
    },
    {
      "cell_type": "code",
      "execution_count": null,
      "metadata": {
        "id": "ggDumkuWCcIc",
        "outputId": "1f2586ec-6573-4dbf-ee34-49efbb5d28f1"
      },
      "outputs": [
        {
          "data": {
            "text/plain": [
              "<AxesSubplot:xlabel='Response', ylabel='count'>"
            ]
          },
          "execution_count": 90,
          "metadata": {},
          "output_type": "execute_result"
        },
        {
          "data": {
            "image/png": "[encoded data removed]",
            "text/plain": [
              "<Figure size 1440x288 with 1 Axes>"
            ]
          },
          "metadata": {
            "needs_background": "light"
          },
          "output_type": "display_data"
        }
      ],
      "source": [
        "sns.countplot(df['Response'])"
      ]
    },
    {
      "cell_type": "code",
      "execution_count": null,
      "metadata": {
        "id": "YLuQ5CNbCcIc"
      },
      "outputs": [],
      "source": [
        ""
      ]
    },
    {
      "cell_type": "markdown",
      "metadata": {
        "id": "MBUEMP-gCcId"
      },
      "source": [
        "Outliers"
      ]
    },
    {
      "cell_type": "code",
      "execution_count": null,
      "metadata": {
        "id": "Pc28EEDKCcId"
      },
      "outputs": [],
      "source": [
        "from scipy import stats"
      ]
    },
    {
      "cell_type": "code",
      "execution_count": null,
      "metadata": {
        "id": "LQVyEySuCcId",
        "outputId": "b342a224-758e-403e-f238-6caff80f4ad8"
      },
      "outputs": [
        {
          "name": "stdout",
          "output_type": "stream",
          "text": [
            "Jumlah baris sebelum memfilter outlier: 381109\n",
            "Jumlah baris setelah memfilter outlier: 379026\n"
          ]
        }
      ],
      "source": [
        "print(f'Jumlah baris sebelum memfilter outlier: {len(df)}')\n",
        "\n",
        "filtered_entries = np.array([True] * len(df))\n",
        "\n",
        "for col in ['Annual_Premium']:\n",
        "    zscore = abs(stats.zscore(df[col])) # hitung absolute z-scorenya\n",
        "    filtered_entries = (zscore < 3) & filtered_entries # keep yang kurang dari 3 absolute z-scorenya\n",
        "    \n",
        "df = df[filtered_entries] # filter, cuma ambil yang z-scorenya dibawah 3\n",
        "\n",
        "print(f'Jumlah baris setelah memfilter outlier: {len(df)}')"
      ]
    },
    {
      "cell_type": "code",
      "execution_count": null,
      "metadata": {
        "id": "8i73yX2dCcIe",
        "outputId": "e144b1c1-5597-4cc4-a91c-18f21fdeea3e"
      },
      "outputs": [
        {
          "name": "stdout",
          "output_type": "stream",
          "text": [
            "(379026, 5)\n",
            "(379026,)\n"
          ]
        }
      ],
      "source": [
        "X = df[[col for col in df.columns if (str(df[col].dtype) != 'object') and col not in ['Response']]]\n",
        "y = df['Response'].values\n",
        "print(X.shape)\n",
        "print(y.shape)"
      ]
    },
    {
      "cell_type": "code",
      "execution_count": null,
      "metadata": {
        "id": "mIFeDQDYCcIe"
      },
      "outputs": [],
      "source": [
        "from imblearn import under_sampling, over_sampling\n"
      ]
    },
    {
      "cell_type": "code",
      "execution_count": null,
      "metadata": {
        "id": "dSqrYZ9dCcIe"
      },
      "outputs": [],
      "source": [
        ""
      ]
    },
    {
      "cell_type": "markdown",
      "metadata": {
        "id": "fDL88tltCcIf"
      },
      "source": [
        "# Stage 2"
      ]
    },
    {
      "cell_type": "markdown",
      "metadata": {
        "id": "uZpDpg2SCcIf"
      },
      "source": [
        "<br>Pengecekan deskripsi statistik data\n",
        "<br>Pengecekan distribusi setiap features terhadap variabel target\n",
        "<br>Pengecekan korelasi data\n",
        "<br>Penjelasan langkah-langkah yang digunakan untuk meningkatkan performa model\n",
        "<br>Insight yang relevan terhadap masalah\n",
        "<br>Insight untuk menentukan rekomendasi bisnis\n",
        "<br>Visualisasi dari insight-insight yang\n",
        "ada\n"
      ]
    },
    {
      "cell_type": "markdown",
      "metadata": {
        "id": "C3wa10V2CcIf"
      },
      "source": [
        "## Pengecekan deskripsi statistik data"
      ]
    },
    {
      "cell_type": "code",
      "execution_count": null,
      "metadata": {
        "id": "obIsgwsqCcIf",
        "outputId": "9ccf622f-f659-4eaf-d05a-2fe6bae0b816"
      },
      "outputs": [
        {
          "name": "stdout",
          "output_type": "stream",
          "text": [
            "Value count kolom Gender:\n",
            "Male      204915\n",
            "Female    174111\n",
            "Name: Gender, dtype: int64\n",
            "\n",
            "Value count kolom Driving_License:\n",
            "1    378222\n",
            "0       804\n",
            "Name: Driving_License, dtype: int64\n",
            "\n",
            "Value count kolom Region_Code:\n",
            "28.0    105111\n",
            "8.0      33518\n",
            "46.0     19740\n",
            "41.0     18173\n",
            "15.0     13272\n",
            "30.0     12189\n",
            "29.0     11024\n",
            "50.0     10228\n",
            "3.0       9238\n",
            "11.0      9209\n",
            "36.0      8782\n",
            "33.0      7649\n",
            "47.0      7433\n",
            "35.0      6924\n",
            "6.0       6279\n",
            "45.0      5598\n",
            "37.0      5489\n",
            "18.0      5143\n",
            "48.0      4681\n",
            "14.0      4674\n",
            "39.0      4629\n",
            "10.0      4371\n",
            "21.0      4265\n",
            "2.0       4038\n",
            "13.0      4033\n",
            "7.0       3254\n",
            "12.0      3196\n",
            "9.0       3100\n",
            "27.0      2822\n",
            "32.0      2786\n",
            "43.0      2635\n",
            "17.0      2593\n",
            "26.0      2587\n",
            "25.0      2501\n",
            "24.0      2414\n",
            "38.0      2022\n",
            "0.0       2020\n",
            "16.0      2007\n",
            "31.0      1960\n",
            "23.0      1960\n",
            "20.0      1935\n",
            "49.0      1829\n",
            "4.0       1801\n",
            "34.0      1662\n",
            "19.0      1534\n",
            "22.0      1302\n",
            "40.0      1293\n",
            "5.0       1277\n",
            "1.0       1008\n",
            "44.0       807\n",
            "42.0       591\n",
            "52.0       265\n",
            "51.0       175\n",
            "Name: Region_Code, dtype: int64\n",
            "\n",
            "Value count kolom Previously_Insured:\n",
            "0    205321\n",
            "1    173705\n",
            "Name: Previously_Insured, dtype: int64\n",
            "\n",
            "Value count kolom Vehicle_Age:\n",
            "1-2 Year     199127\n",
            "< 1 Year     164042\n",
            "> 2 Years     15857\n",
            "Name: Vehicle_Age, dtype: int64\n",
            "\n",
            "Value count kolom Vehicle_Damage:\n",
            "Yes    191296\n",
            "No     187730\n",
            "Name: Vehicle_Damage, dtype: int64\n",
            "\n",
            "Value count kolom Response:\n",
            "0    332638\n",
            "1     46388\n",
            "Name: Response, dtype: int64\n",
            "\n"
          ]
        }
      ],
      "source": [
        "for col in cat:\n",
        "    print(f'''Value count kolom {col}:''')\n",
        "    print(df[col].value_counts())\n",
        "    print()"
      ]
    },
    {
      "cell_type": "markdown",
      "metadata": {
        "id": "kX2ynl8eCcIg"
      },
      "source": [
        "## Pengecekan distribusi setiap features terhadap variabel target"
      ]
    },
    {
      "cell_type": "code",
      "execution_count": null,
      "metadata": {
        "id": "ViTQM-ZICcIg",
        "outputId": "1dad91ae-5165-4e23-bd1e-68991312c567"
      },
      "outputs": [
        {
          "data": {
            "image/png": "[encoded data removed]",
            "text/plain": [
              "<Figure size 864x360 with 5 Axes>"
            ]
          },
          "metadata": {
            "needs_background": "light"
          },
          "output_type": "display_data"
        }
      ],
      "source": [
        "plt.figure(figsize=(12, 5))\n",
        "for i in range(0, len(num)):\n",
        "    plt.subplot(3, len(num)/2, i+1)\n",
        "    sns.distplot(df[num[i]], color='gray')\n",
        "    plt.tight_layout()"
      ]
    },
    {
      "cell_type": "code",
      "execution_count": null,
      "metadata": {
        "id": "_Tdu-nakCcIg",
        "outputId": "ff96b753-de96-4068-fbf6-ea298a4e78fe"
      },
      "outputs": [
        {
          "data": {
            "image/png": "[encoded data removed]",
            "text/plain": [
              "<Figure size 1440x288 with 7 Axes>"
            ]
          },
          "metadata": {
            "needs_background": "light"
          },
          "output_type": "display_data"
        }
      ],
      "source": [
        "for i in range(0, len(cat)):\n",
        "    plt.subplot(3, 3, i+1)\n",
        "    sns.countplot(df[cat[i]], color='gray', orient='v')\n",
        "    plt.tight_layout()"
      ]
    },
    {
      "cell_type": "code",
      "execution_count": null,
      "metadata": {
        "id": "Vq5fm4XkCcIg",
        "outputId": "d1ab12d6-b533-4871-da66-02e49861071e"
      },
      "outputs": [
        {
          "data": {
            "image/png": "[encoded data removed]",
            "text/plain": [
              "<Figure size 1440x288 with 5 Axes>"
            ]
          },
          "metadata": {
            "needs_background": "light"
          },
          "output_type": "display_data"
        }
      ],
      "source": [
        "for i in range(0, len(num)):\n",
        "    plt.subplot(1, len(num), i+1)\n",
        "    sns.violinplot(y=df[num[i]], color='gray', orient='v')\n",
        "    plt.tight_layout()"
      ]
    },
    {
      "cell_type": "markdown",
      "metadata": {
        "id": "YjGB_eYLCcIh"
      },
      "source": [
        "## Correlation"
      ]
    },
    {
      "cell_type": "code",
      "execution_count": null,
      "metadata": {
        "id": "_ADaknlgCcIh",
        "outputId": "8ce42e70-bfe9-4c76-88e9-9906220eeee9"
      },
      "outputs": [
        {
          "data": {
            "text/html": [
              "<div>\n",
              "<style scoped>\n",
              "    .dataframe tbody tr th:only-of-type {\n",
              "        vertical-align: middle;\n",
              "    }\n",
              "\n",
              "    .dataframe tbody tr th {\n",
              "        vertical-align: top;\n",
              "    }\n",
              "\n",
              "    .dataframe thead th {\n",
              "        text-align: right;\n",
              "    }\n",
              "</style>\n",
              "<table border=\"1\" class=\"dataframe\">\n",
              "  <thead>\n",
              "    <tr style=\"text-align: right;\">\n",
              "      <th></th>\n",
              "      <th>id</th>\n",
              "      <th>Age</th>\n",
              "      <th>Driving_License</th>\n",
              "      <th>Region_Code</th>\n",
              "      <th>Previously_Insured</th>\n",
              "      <th>Annual_Premium</th>\n",
              "      <th>Policy_Sales_Channel</th>\n",
              "      <th>Vintage</th>\n",
              "      <th>Response</th>\n",
              "    </tr>\n",
              "  </thead>\n",
              "  <tbody>\n",
              "    <tr>\n",
              "      <th>id</th>\n",
              "      <td>1.000000</td>\n",
              "      <td>0.001561</td>\n",
              "      <td>-0.000564</td>\n",
              "      <td>-0.000572</td>\n",
              "      <td>0.002457</td>\n",
              "      <td>0.003027</td>\n",
              "      <td>-0.002837</td>\n",
              "      <td>-0.000630</td>\n",
              "      <td>-0.001368</td>\n",
              "    </tr>\n",
              "    <tr>\n",
              "      <th>Age</th>\n",
              "      <td>0.001561</td>\n",
              "      <td>1.000000</td>\n",
              "      <td>-0.079782</td>\n",
              "      <td>0.042574</td>\n",
              "      <td>-0.254682</td>\n",
              "      <td>0.067507</td>\n",
              "      <td>-0.577826</td>\n",
              "      <td>-0.001264</td>\n",
              "      <td>0.111147</td>\n",
              "    </tr>\n",
              "    <tr>\n",
              "      <th>Driving_License</th>\n",
              "      <td>-0.000564</td>\n",
              "      <td>-0.079782</td>\n",
              "      <td>1.000000</td>\n",
              "      <td>-0.001081</td>\n",
              "      <td>0.014969</td>\n",
              "      <td>-0.011906</td>\n",
              "      <td>0.043731</td>\n",
              "      <td>-0.000848</td>\n",
              "      <td>0.010155</td>\n",
              "    </tr>\n",
              "    <tr>\n",
              "      <th>Region_Code</th>\n",
              "      <td>-0.000572</td>\n",
              "      <td>0.042574</td>\n",
              "      <td>-0.001081</td>\n",
              "      <td>1.000000</td>\n",
              "      <td>-0.024659</td>\n",
              "      <td>-0.010588</td>\n",
              "      <td>-0.042420</td>\n",
              "      <td>-0.002750</td>\n",
              "      <td>0.010570</td>\n",
              "    </tr>\n",
              "    <tr>\n",
              "      <th>Previously_Insured</th>\n",
              "      <td>0.002457</td>\n",
              "      <td>-0.254682</td>\n",
              "      <td>0.014969</td>\n",
              "      <td>-0.024659</td>\n",
              "      <td>1.000000</td>\n",
              "      <td>0.004269</td>\n",
              "      <td>0.219381</td>\n",
              "      <td>0.002537</td>\n",
              "      <td>-0.341170</td>\n",
              "    </tr>\n",
              "    <tr>\n",
              "      <th>Annual_Premium</th>\n",
              "      <td>0.003027</td>\n",
              "      <td>0.067507</td>\n",
              "      <td>-0.011906</td>\n",
              "      <td>-0.010588</td>\n",
              "      <td>0.004269</td>\n",
              "      <td>1.000000</td>\n",
              "      <td>-0.113247</td>\n",
              "      <td>-0.000608</td>\n",
              "      <td>0.022575</td>\n",
              "    </tr>\n",
              "    <tr>\n",
              "      <th>Policy_Sales_Channel</th>\n",
              "      <td>-0.002837</td>\n",
              "      <td>-0.577826</td>\n",
              "      <td>0.043731</td>\n",
              "      <td>-0.042420</td>\n",
              "      <td>0.219381</td>\n",
              "      <td>-0.113247</td>\n",
              "      <td>1.000000</td>\n",
              "      <td>0.000002</td>\n",
              "      <td>-0.139042</td>\n",
              "    </tr>\n",
              "    <tr>\n",
              "      <th>Vintage</th>\n",
              "      <td>-0.000630</td>\n",
              "      <td>-0.001264</td>\n",
              "      <td>-0.000848</td>\n",
              "      <td>-0.002750</td>\n",
              "      <td>0.002537</td>\n",
              "      <td>-0.000608</td>\n",
              "      <td>0.000002</td>\n",
              "      <td>1.000000</td>\n",
              "      <td>-0.001050</td>\n",
              "    </tr>\n",
              "    <tr>\n",
              "      <th>Response</th>\n",
              "      <td>-0.001368</td>\n",
              "      <td>0.111147</td>\n",
              "      <td>0.010155</td>\n",
              "      <td>0.010570</td>\n",
              "      <td>-0.341170</td>\n",
              "      <td>0.022575</td>\n",
              "      <td>-0.139042</td>\n",
              "      <td>-0.001050</td>\n",
              "      <td>1.000000</td>\n",
              "    </tr>\n",
              "  </tbody>\n",
              "</table>\n",
              "</div>"
            ],
            "text/plain": [
              "                            id       Age  Driving_License  Region_Code  \\\n",
              "id                    1.000000  0.001561        -0.000564    -0.000572   \n",
              "Age                   0.001561  1.000000        -0.079782     0.042574   \n",
              "Driving_License      -0.000564 -0.079782         1.000000    -0.001081   \n",
              "Region_Code          -0.000572  0.042574        -0.001081     1.000000   \n",
              "Previously_Insured    0.002457 -0.254682         0.014969    -0.024659   \n",
              "Annual_Premium        0.003027  0.067507        -0.011906    -0.010588   \n",
              "Policy_Sales_Channel -0.002837 -0.577826         0.043731    -0.042420   \n",
              "Vintage              -0.000630 -0.001264        -0.000848    -0.002750   \n",
              "Response             -0.001368  0.111147         0.010155     0.010570   \n",
              "\n",
              "                      Previously_Insured  Annual_Premium  \\\n",
              "id                              0.002457        0.003027   \n",
              "Age                            -0.254682        0.067507   \n",
              "Driving_License                 0.014969       -0.011906   \n",
              "Region_Code                    -0.024659       -0.010588   \n",
              "Previously_Insured              1.000000        0.004269   \n",
              "Annual_Premium                  0.004269        1.000000   \n",
              "Policy_Sales_Channel            0.219381       -0.113247   \n",
              "Vintage                         0.002537       -0.000608   \n",
              "Response                       -0.341170        0.022575   \n",
              "\n",
              "                      Policy_Sales_Channel   Vintage  Response  \n",
              "id                               -0.002837 -0.000630 -0.001368  \n",
              "Age                              -0.577826 -0.001264  0.111147  \n",
              "Driving_License                   0.043731 -0.000848  0.010155  \n",
              "Region_Code                      -0.042420 -0.002750  0.010570  \n",
              "Previously_Insured                0.219381  0.002537 -0.341170  \n",
              "Annual_Premium                   -0.113247 -0.000608  0.022575  \n",
              "Policy_Sales_Channel              1.000000  0.000002 -0.139042  \n",
              "Vintage                           0.000002  1.000000 -0.001050  \n",
              "Response                         -0.139042 -0.001050  1.000000  "
            ]
          },
          "execution_count": 99,
          "metadata": {},
          "output_type": "execute_result"
        }
      ],
      "source": [
        "df_corr.corr()"
      ]
    },
    {
      "cell_type": "code",
      "execution_count": null,
      "metadata": {
        "id": "LYak-9u7CcIh",
        "outputId": "8539c342-3bb3-44dc-e273-53b79c06398d"
      },
      "outputs": [
        {
          "data": {
            "text/plain": [
              "<AxesSubplot:>"
            ]
          },
          "execution_count": 100,
          "metadata": {},
          "output_type": "execute_result"
        },
        {
          "data": {
            "image/png": "[encoded data removed]",
            "text/plain": [
              "<Figure size 576x576 with 2 Axes>"
            ]
          },
          "metadata": {
            "needs_background": "light"
          },
          "output_type": "display_data"
        }
      ],
      "source": [
        "plt.figure(figsize=(8, 8))\n",
        "sns.heatmap(df_corr.corr(), cmap='YlGnBu', annot=True, fmt='.2f')"
      ]
    },
    {
      "cell_type": "markdown",
      "metadata": {
        "id": "7zZFZXgLCcIi"
      },
      "source": [
        "Dari correlation heatmap di atas dapat dilihat bahwa:\n",
        "\n",
        "- Target 'response' memiliki korelasi positif lemah dengan driving license, region code, annual premium\n",
        "- Bahkan tidak ada korelasi dengan kolom vintage \n",
        "- Terdapat korelasi negatif yang notable dengan previously insured, di mana jika sebelumnya sudah mengambil vehicle insurance kemungkinan less likely untuk interest mengambil produk asuransi mobil di company ini \n",
        "- Terdapat korelasi positif namun tidak cukup kuat antara umur dengan kemungkinan pengambilan insurance"
      ]
    },
    {
      "cell_type": "code",
      "execution_count": null,
      "metadata": {
        "id": "vmRrSaYlCcIi"
      },
      "outputs": [],
      "source": [
        "# plt.figure(figsize=(15, 15))\n",
        "# sns.pairplot(df_corr, diag_kind='kde')"
      ]
    },
    {
      "cell_type": "code",
      "execution_count": null,
      "metadata": {
        "id": "vh0Z_2NsCcIi"
      },
      "outputs": [],
      "source": [
        "# fig = plt.figure(figsize=(15, 15))\n",
        "# for i in range(0, len(num)):\n",
        "#     ax = fig.add_subplot(3, 3, i+1)\n",
        "#     sns.stripplot(ax=ax, data=df, x='Gender', y=num[i])\n",
        "#     plt.tight_layout()\n",
        "\n",
        "#     if i != 0: plt.close(i+1)\n",
        "\n",
        "#     plt.close(len(num) + 1)"
      ]
    },
    {
      "cell_type": "code",
      "execution_count": null,
      "metadata": {
        "id": "QDY4l22jCcIi"
      },
      "outputs": [],
      "source": [
        "# fig = plt.figure(figsize=(15, 15))\n",
        "# for i in range(0, len(num)):\n",
        "#     ax = fig.add_subplot(3, 3, i+1)\n",
        "#     sns.stripplot(ax=ax, data=df, x='Vehicle_Age', y=num[i])\n",
        "#     plt.tight_layout()\n",
        "\n",
        "#     if i != 0: plt.close(i+1)\n",
        "\n",
        "#     plt.close(len(num) + 1)"
      ]
    },
    {
      "cell_type": "markdown",
      "metadata": {
        "id": "gXswakKpCcIi"
      },
      "source": [
        "## Penjelasan langkah-langkah yang digunakan untuk meningkatkan performa model"
      ]
    },
    {
      "cell_type": "markdown",
      "metadata": {
        "id": "pdL_m7wMCcIj"
      },
      "source": [
        "1. Meningkatkan Akurasi: Ini adalah ukuran jumlah prediksi benar yang dibuat oleh model. Ini adalah rasio prediksi yang benar dengan prediksi total sehingga nantinya dapat memberi hasil yang lebih baik.\n",
        "\n",
        "2. Confusion matrix: Ini adalah representasi tabel dari nilai prediksi dan nilai aktual dari dataset. Matriks yang dibuat dimaksudkan untuk memberikan pemahaman yang lebih baik dan visualisasi yang jelas dari hasil model untuk menghindari 'kebingungan'.\n",
        "\n",
        "3. Presisi dan Perolehan:\n",
        "\n",
        "- Presisi: Ini memberi kita informasi tentang seberapa benar model mendeteksi hasil positif. Ini adalah rasio dari positif benar ke - total positif.\n",
        "\n",
        "- Kurva Precision and Recall (PR): Kurva ini adalah korelasi antara presisi dan recall pada nilai cut-off tertentu. .\n",
        "\n",
        "4. Skor F: Ini adalah ukuran rata-rata harmonik presisi dan perolehan. Skor F adalah hasil dari pengintegrasian parameter ini menjadi satu untuk pemahaman yang lebih baik tentang keakuratan model. F-score dapat dimodifikasi menjadi F, 0,5, 1, & 2 berdasarkan ukuran bobot yang diberikan untuk presisi atas recall. Berikut rumusnya.\n",
        "\n",
        "5. Kerugian Logaritmik: Pengukuran ini melacak setiap pelabelan yang salah dari kelas data oleh model dan menghukum model jika penyimpangan dalam probabilitas terjadi saat mengklasifikasikan label. Nilai kerugian log yang rendah merupakan nilai akurasi yang tinggi.\n",
        "\n",
        "6. Kekhususan: Ini adalah ukuran poin negatif yang diprediksi sehubungan dengan semua poin negatif aktual (termasuk positif palsu). Ini mirip dengan penarikan kembali tetapi untuk prediksi negatif, ini sebenarnya mengkomunikasikan offset dalam memprediksi nilai negatif dengan benar oleh model.\n",
        " \n",
        "7. Kurva KOP & AUC: Ini adalah kurva karakteristik operasi penerima yang diplot antara True Positive Rate (TPR) dan False Positive Rate (FPR). Ini adalah kurva probabilitas yang membantu dalam memvisualisasikan model klasifikasi biner dengan menghasilkan informasi tentang seberapa baik model dapat membedakan antara kelas-kelas misalnya apakah pasien menderita Penyakit A atau tidak, dll. AUC adalah area di bawah kurva ini, semakin tinggi area tersebut semakin baik kemampuan model untuk klasifikasi."
      ]
    },
    {
      "cell_type": "markdown",
      "metadata": {
        "id": "a0QBYHNBCcIj"
      },
      "source": [
        "## Insight yang relevan terhadap masalah"
      ]
    },
    {
      "cell_type": "markdown",
      "metadata": {
        "id": "Z1C7CyeCCcIj"
      },
      "source": [
        "#### 1. Perbandingan antara kendaraan belum diasuransikan dan mengalami kerusakan "
      ]
    },
    {
      "cell_type": "code",
      "execution_count": null,
      "metadata": {
        "id": "V0QfSYSyCcIj",
        "outputId": "0f66493b-bd0c-4170-bcd8-cd2c0b214c29"
      },
      "outputs": [
        {
          "data": {
            "text/html": [
              "<div>\n",
              "<style scoped>\n",
              "    .dataframe tbody tr th:only-of-type {\n",
              "        vertical-align: middle;\n",
              "    }\n",
              "\n",
              "    .dataframe tbody tr th {\n",
              "        vertical-align: top;\n",
              "    }\n",
              "\n",
              "    .dataframe thead th {\n",
              "        text-align: right;\n",
              "    }\n",
              "</style>\n",
              "<table border=\"1\" class=\"dataframe\">\n",
              "  <thead>\n",
              "    <tr style=\"text-align: right;\">\n",
              "      <th></th>\n",
              "      <th>Previously_Insured</th>\n",
              "      <th>Vehicle_Damage</th>\n",
              "      <th>Response</th>\n",
              "      <th>id</th>\n",
              "      <th>total_vehicle</th>\n",
              "      <th>percentage</th>\n",
              "    </tr>\n",
              "  </thead>\n",
              "  <tbody>\n",
              "    <tr>\n",
              "      <th>2</th>\n",
              "      <td>0</td>\n",
              "      <td>Yes</td>\n",
              "      <td>0</td>\n",
              "      <td>136101</td>\n",
              "      <td>181425</td>\n",
              "      <td>75.017776</td>\n",
              "    </tr>\n",
              "    <tr>\n",
              "      <th>3</th>\n",
              "      <td>0</td>\n",
              "      <td>Yes</td>\n",
              "      <td>1</td>\n",
              "      <td>45324</td>\n",
              "      <td>181425</td>\n",
              "      <td>24.982224</td>\n",
              "    </tr>\n",
              "  </tbody>\n",
              "</table>\n",
              "</div>"
            ],
            "text/plain": [
              "   Previously_Insured Vehicle_Damage  Response      id  total_vehicle  \\\n",
              "2                   0            Yes         0  136101         181425   \n",
              "3                   0            Yes         1   45324         181425   \n",
              "\n",
              "   percentage  \n",
              "2   75.017776  \n",
              "3   24.982224  "
            ]
          },
          "execution_count": 104,
          "metadata": {},
          "output_type": "execute_result"
        }
      ],
      "source": [
        "df_notins=df[['id','Previously_Insured', 'Vehicle_Damage','Response']]\n",
        "df_notins=df_notins.groupby(['Previously_Insured','Vehicle_Damage','Response']).count().reset_index()\n",
        "df_notins=df_notins[df_notins['Vehicle_Damage']=='Yes']\n",
        "df_notins['total_vehicle']=df_notins.groupby(['Previously_Insured'])['id'].transform('sum')\n",
        "df_notins=df_notins[df_notins['Previously_Insured']==0]\n",
        "df_notins['percentage']=df_notins['id']/df_notins['total_vehicle']*100\n",
        "df_notins"
      ]
    },
    {
      "cell_type": "code",
      "execution_count": null,
      "metadata": {
        "id": "qIo2LBI4CcIk",
        "outputId": "587e2d8e-09fd-4844-afc0-9c5ad682f6ee"
      },
      "outputs": [
        {
          "data": {
            "text/plain": [
              "<AxesSubplot:ylabel='percentage'>"
            ]
          },
          "execution_count": 105,
          "metadata": {},
          "output_type": "execute_result"
        },
        {
          "data": {
            "image/png": "[encoded data removed]",
            "text/plain": [
              "<Figure size 720x360 with 1 Axes>"
            ]
          },
          "metadata": {},
          "output_type": "display_data"
        }
      ],
      "source": [
        "plt.figure(figsize=(10,5))\n",
        "# plot chart\n",
        "ax1 = plt.subplot(121, aspect='equal')\n",
        "df_notins.plot(kind='pie', y = 'percentage', ax=ax1, autopct='%1.1f%%', \n",
        " startangle=90, shadow=False, labels=df_notins['Response'], legend = False, fontsize=10)"
      ]
    },
    {
      "cell_type": "markdown",
      "metadata": {
        "id": "MypcS-RxCcIk"
      },
      "source": [
        "Dapat dilihat hasil dari persentase bahwa masih ada 74% customer yang tidak tertarik terhadap penawaran yang diberikan meskipun mengalami kerusakan pada kendaraannya dan belum memiliki asuransi "
      ]
    },
    {
      "cell_type": "markdown",
      "metadata": {
        "id": "xfXp_KWeCcIk"
      },
      "source": [
        "#### 2. Rasio usia pemilik kendaraan yang belum memiliki asuransi kendaraan"
      ]
    },
    {
      "cell_type": "code",
      "execution_count": null,
      "metadata": {
        "id": "07piKY0NCcIk",
        "outputId": "8d7a6dba-85e0-4ae3-9a1a-10bc289087dd"
      },
      "outputs": [
        {
          "data": {
            "text/html": [
              "<div>\n",
              "<style scoped>\n",
              "    .dataframe tbody tr th:only-of-type {\n",
              "        vertical-align: middle;\n",
              "    }\n",
              "\n",
              "    .dataframe tbody tr th {\n",
              "        vertical-align: top;\n",
              "    }\n",
              "\n",
              "    .dataframe thead th {\n",
              "        text-align: right;\n",
              "    }\n",
              "</style>\n",
              "<table border=\"1\" class=\"dataframe\">\n",
              "  <thead>\n",
              "    <tr style=\"text-align: right;\">\n",
              "      <th></th>\n",
              "      <th>Age_cat</th>\n",
              "      <th>Previously_Insured</th>\n",
              "      <th>id</th>\n",
              "      <th>Age</th>\n",
              "      <th>total_cust</th>\n",
              "      <th>percentage</th>\n",
              "    </tr>\n",
              "  </thead>\n",
              "  <tbody>\n",
              "    <tr>\n",
              "      <th>0</th>\n",
              "      <td>Adult</td>\n",
              "      <td>0</td>\n",
              "      <td>91049</td>\n",
              "      <td>91049</td>\n",
              "      <td>205321</td>\n",
              "      <td>44.344709</td>\n",
              "    </tr>\n",
              "    <tr>\n",
              "      <th>1</th>\n",
              "      <td>Junior Adult</td>\n",
              "      <td>0</td>\n",
              "      <td>55671</td>\n",
              "      <td>55671</td>\n",
              "      <td>205321</td>\n",
              "      <td>27.114129</td>\n",
              "    </tr>\n",
              "    <tr>\n",
              "      <th>2</th>\n",
              "      <td>Senior Adult</td>\n",
              "      <td>0</td>\n",
              "      <td>58601</td>\n",
              "      <td>58601</td>\n",
              "      <td>205321</td>\n",
              "      <td>28.541162</td>\n",
              "    </tr>\n",
              "  </tbody>\n",
              "</table>\n",
              "</div>"
            ],
            "text/plain": [
              "        Age_cat  Previously_Insured     id    Age  total_cust  percentage\n",
              "0         Adult                   0  91049  91049      205321   44.344709\n",
              "1  Junior Adult                   0  55671  55671      205321   27.114129\n",
              "2  Senior Adult                   0  58601  58601      205321   28.541162"
            ]
          },
          "execution_count": 106,
          "metadata": {},
          "output_type": "execute_result"
        }
      ],
      "source": [
        "df_age=df[['id','Previously_Insured', 'Age']]\n",
        "df_age=df_age[df_age['Previously_Insured']==0]\n",
        "df_age['Age_cat']=np.where(df_age['Age']> 50, 'Senior Adult',np.where(df_age['Age']> 30, 'Adult', 'Junior Adult' ))\n",
        "df_age=df_age.groupby(['Age_cat','Previously_Insured']).count().reset_index()\n",
        "df_age['total_cust']=df_age.groupby(['Previously_Insured'])['id'].transform('sum')\n",
        "df_age['percentage']=df_age['id']/df_age['total_cust']*100\n",
        "df_age"
      ]
    },
    {
      "cell_type": "code",
      "execution_count": null,
      "metadata": {
        "id": "z6hIhLJjCcIl",
        "outputId": "53d81cbd-f779-4f95-c095-4832a1d4cca9"
      },
      "outputs": [
        {
          "data": {
            "image/png": "[encoded data removed]",
            "text/plain": [
              "<Figure size 1440x288 with 1 Axes>"
            ]
          },
          "metadata": {},
          "output_type": "display_data"
        }
      ],
      "source": [
        "my_colors = ['red','green','Blue']\n",
        "my_explode = (0.1, 0, 0)\n",
        "plt.pie(df_age['percentage'], labels=df_age['Age_cat'], autopct='%1.1f%%', startangle=15, shadow = False, colors=my_colors, explode=my_explode)\n",
        "plt.title('')\n",
        "plt.axis('equal')\n",
        "plt.show()"
      ]
    },
    {
      "cell_type": "markdown",
      "metadata": {
        "id": "HBaW1WL7CcIl"
      },
      "source": [
        "Pemilik kendaraan dengan rentang usia 30-50 tahun merupakan jumlah customer terbesar yang belum memiliki asuransi kendaraan dibanding dengan usia Junior maupun Senior Adult."
      ]
    },
    {
      "cell_type": "markdown",
      "metadata": {
        "id": "3Wt6DxvlCcIl"
      },
      "source": [
        "#### 3. Jumlah kendaraan yang belum diasuransikan dan respon ketertarikan "
      ]
    },
    {
      "cell_type": "code",
      "execution_count": null,
      "metadata": {
        "tags": [],
        "id": "QZ-BhCtbCcIl",
        "outputId": "2050505e-614c-44d9-ab54-90a157fd7d5a"
      },
      "outputs": [
        {
          "data": {
            "text/html": [
              "<div>\n",
              "<style scoped>\n",
              "    .dataframe tbody tr th:only-of-type {\n",
              "        vertical-align: middle;\n",
              "    }\n",
              "\n",
              "    .dataframe tbody tr th {\n",
              "        vertical-align: top;\n",
              "    }\n",
              "\n",
              "    .dataframe thead th {\n",
              "        text-align: right;\n",
              "    }\n",
              "</style>\n",
              "<table border=\"1\" class=\"dataframe\">\n",
              "  <thead>\n",
              "    <tr style=\"text-align: right;\">\n",
              "      <th></th>\n",
              "      <th>Response</th>\n",
              "      <th>Previously_Insured</th>\n",
              "      <th>id</th>\n",
              "      <th>total_Resp</th>\n",
              "      <th>percentage</th>\n",
              "    </tr>\n",
              "  </thead>\n",
              "  <tbody>\n",
              "    <tr>\n",
              "      <th>0</th>\n",
              "      <td>0</td>\n",
              "      <td>0</td>\n",
              "      <td>159091</td>\n",
              "      <td>205321</td>\n",
              "      <td>77.484037</td>\n",
              "    </tr>\n",
              "    <tr>\n",
              "      <th>1</th>\n",
              "      <td>1</td>\n",
              "      <td>0</td>\n",
              "      <td>46230</td>\n",
              "      <td>205321</td>\n",
              "      <td>22.515963</td>\n",
              "    </tr>\n",
              "  </tbody>\n",
              "</table>\n",
              "</div>"
            ],
            "text/plain": [
              "   Response  Previously_Insured      id  total_Resp  percentage\n",
              "0         0                   0  159091      205321   77.484037\n",
              "1         1                   0   46230      205321   22.515963"
            ]
          },
          "execution_count": 108,
          "metadata": {},
          "output_type": "execute_result"
        }
      ],
      "source": [
        "df_resp=df[['id','Previously_Insured','Response']]\n",
        "df_resp=df_resp[df_resp['Previously_Insured']==0]\n",
        "df_resp=df_resp.groupby(['Response','Previously_Insured']).count().reset_index()\n",
        "df_resp['total_Resp']=df_resp.groupby(['Previously_Insured'])['id'].transform('sum')\n",
        "df_resp['percentage']=df_resp['id']/df_resp['total_Resp']*100\n",
        "df_resp"
      ]
    },
    {
      "cell_type": "code",
      "execution_count": null,
      "metadata": {
        "id": "l0SEh1H-CcIl",
        "outputId": "86e204bd-bd7f-4d2c-9271-bda3f12eeaf6"
      },
      "outputs": [
        {
          "data": {
            "image/png": "[encoded data removed]",
            "text/plain": [
              "<Figure size 1440x288 with 1 Axes>"
            ]
          },
          "metadata": {},
          "output_type": "display_data"
        }
      ],
      "source": [
        "my_colors = ['red','green']\n",
        "my_explode = (0.1, 0)\n",
        "plt.pie(df_resp['percentage'], labels=df_resp['Response'], autopct='%1.1f%%', startangle=15, shadow = False, colors=my_colors, explode=my_explode)\n",
        "plt.title('Response Interest')\n",
        "plt.axis('equal')\n",
        "plt.show()"
      ]
    },
    {
      "cell_type": "markdown",
      "metadata": {
        "id": "JUmmEyusCcIm"
      },
      "source": [
        "Jumlah ketertarikan pemilik kendaraan yang belum memiliki asuransi terhadap kendaraannya terbilang kecil hanya dapat menjangkau 22% customer. "
      ]
    },
    {
      "cell_type": "markdown",
      "metadata": {
        "id": "PgMbHpdQCcIm"
      },
      "source": [
        "#### mengetahui jumlah respon berdasarkan gender.\n",
        "- 1 : Customer is interested, 0 : Customer is not interested"
      ]
    },
    {
      "cell_type": "markdown",
      "metadata": {
        "id": "2OwfmjmXCcIm"
      },
      "source": [
        "Conclusion :\n",
        "- Customer yang tertarik (response = 1) di dominasi oleh pria\n",
        "- Customer yang tidak tertarik (response = 0) juga di dominasi oleh pria\n",
        "- Hal ini dikarenakan jumlah responden pria lebih banyak dibandingkan wanita (jika dilihat count berdasarkan gender)"
      ]
    },
    {
      "cell_type": "markdown",
      "metadata": {
        "id": "xtY67HpeCcIm"
      },
      "source": [
        "# Stage 3"
      ]
    },
    {
      "cell_type": "markdown",
      "metadata": {
        "id": "jLhLf9v9CcIm"
      },
      "source": [
        "<br>Model apa yang ingin dibuat dan digunakan untuk apa\n",
        "<br>Penjelasan langkah-langkah dalam modelling\n",
        "<br>Perbandingan hasil dari berbagai algoritma model yang dicoba\n",
        "<br>Evaluation metrics yang digunakan\n",
        "<br>Hyperparameter tuning\n",
        "<br>Model akhir yang dipilih\n",
        "<br>Penjelasan mengapa model yang dipilih sudah bagus"
      ]
    },
    {
      "cell_type": "code",
      "execution_count": null,
      "metadata": {
        "id": "2iF_zNqsCcIn",
        "outputId": "8c53ac17-679d-441d-89e6-b08099501919"
      },
      "outputs": [
        {
          "name": "stdout",
          "output_type": "stream",
          "text": [
            "<class 'pandas.core.frame.DataFrame'>\n",
            "Int64Index: 379026 entries, 0 to 381108\n",
            "Data columns (total 12 columns):\n",
            " #   Column                Non-Null Count   Dtype  \n",
            "---  ------                --------------   -----  \n",
            " 0   id                    379026 non-null  int64  \n",
            " 1   Gender                379026 non-null  object \n",
            " 2   Age                   379026 non-null  int64  \n",
            " 3   Driving_License       379026 non-null  object \n",
            " 4   Region_Code           379026 non-null  object \n",
            " 5   Previously_Insured    379026 non-null  object \n",
            " 6   Vehicle_Age           379026 non-null  object \n",
            " 7   Vehicle_Damage        379026 non-null  object \n",
            " 8   Annual_Premium        379026 non-null  float64\n",
            " 9   Policy_Sales_Channel  379026 non-null  float64\n",
            " 10  Vintage               379026 non-null  int64  \n",
            " 11  Response              379026 non-null  int32  \n",
            "dtypes: float64(2), int32(1), int64(3), object(6)\n",
            "memory usage: 44.2+ MB\n"
          ]
        }
      ],
      "source": [
        "df.info()"
      ]
    },
    {
      "cell_type": "code",
      "execution_count": null,
      "metadata": {
        "id": "1RQ8mr08CcIn",
        "outputId": "e094498b-1aa3-48d5-a6e6-09a7850f7faf"
      },
      "outputs": [
        {
          "data": {
            "text/html": [
              "<div>\n",
              "<style scoped>\n",
              "    .dataframe tbody tr th:only-of-type {\n",
              "        vertical-align: middle;\n",
              "    }\n",
              "\n",
              "    .dataframe tbody tr th {\n",
              "        vertical-align: top;\n",
              "    }\n",
              "\n",
              "    .dataframe thead th {\n",
              "        text-align: right;\n",
              "    }\n",
              "</style>\n",
              "<table border=\"1\" class=\"dataframe\">\n",
              "  <thead>\n",
              "    <tr style=\"text-align: right;\">\n",
              "      <th></th>\n",
              "      <th>id</th>\n",
              "      <th>Gender</th>\n",
              "      <th>Age</th>\n",
              "      <th>Driving_License</th>\n",
              "      <th>Region_Code</th>\n",
              "      <th>Previously_Insured</th>\n",
              "      <th>Vehicle_Age</th>\n",
              "      <th>Vehicle_Damage</th>\n",
              "      <th>Annual_Premium</th>\n",
              "      <th>Policy_Sales_Channel</th>\n",
              "      <th>Vintage</th>\n",
              "      <th>Response</th>\n",
              "    </tr>\n",
              "  </thead>\n",
              "  <tbody>\n",
              "    <tr>\n",
              "      <th>0</th>\n",
              "      <td>1</td>\n",
              "      <td>Male</td>\n",
              "      <td>44</td>\n",
              "      <td>1</td>\n",
              "      <td>28.0</td>\n",
              "      <td>0</td>\n",
              "      <td>&gt; 2 Years</td>\n",
              "      <td>Yes</td>\n",
              "      <td>40454.0</td>\n",
              "      <td>26.0</td>\n",
              "      <td>217</td>\n",
              "      <td>1</td>\n",
              "    </tr>\n",
              "    <tr>\n",
              "      <th>1</th>\n",
              "      <td>2</td>\n",
              "      <td>Male</td>\n",
              "      <td>76</td>\n",
              "      <td>1</td>\n",
              "      <td>3.0</td>\n",
              "      <td>0</td>\n",
              "      <td>1-2 Year</td>\n",
              "      <td>No</td>\n",
              "      <td>33536.0</td>\n",
              "      <td>26.0</td>\n",
              "      <td>183</td>\n",
              "      <td>0</td>\n",
              "    </tr>\n",
              "    <tr>\n",
              "      <th>2</th>\n",
              "      <td>3</td>\n",
              "      <td>Male</td>\n",
              "      <td>47</td>\n",
              "      <td>1</td>\n",
              "      <td>28.0</td>\n",
              "      <td>0</td>\n",
              "      <td>&gt; 2 Years</td>\n",
              "      <td>Yes</td>\n",
              "      <td>38294.0</td>\n",
              "      <td>26.0</td>\n",
              "      <td>27</td>\n",
              "      <td>1</td>\n",
              "    </tr>\n",
              "    <tr>\n",
              "      <th>3</th>\n",
              "      <td>4</td>\n",
              "      <td>Male</td>\n",
              "      <td>21</td>\n",
              "      <td>1</td>\n",
              "      <td>11.0</td>\n",
              "      <td>1</td>\n",
              "      <td>&lt; 1 Year</td>\n",
              "      <td>No</td>\n",
              "      <td>28619.0</td>\n",
              "      <td>152.0</td>\n",
              "      <td>203</td>\n",
              "      <td>0</td>\n",
              "    </tr>\n",
              "    <tr>\n",
              "      <th>4</th>\n",
              "      <td>5</td>\n",
              "      <td>Female</td>\n",
              "      <td>29</td>\n",
              "      <td>1</td>\n",
              "      <td>41.0</td>\n",
              "      <td>1</td>\n",
              "      <td>&lt; 1 Year</td>\n",
              "      <td>No</td>\n",
              "      <td>27496.0</td>\n",
              "      <td>152.0</td>\n",
              "      <td>39</td>\n",
              "      <td>0</td>\n",
              "    </tr>\n",
              "  </tbody>\n",
              "</table>\n",
              "</div>"
            ],
            "text/plain": [
              "   id  Gender  Age Driving_License Region_Code Previously_Insured Vehicle_Age  \\\n",
              "0   1    Male   44               1        28.0                  0   > 2 Years   \n",
              "1   2    Male   76               1         3.0                  0    1-2 Year   \n",
              "2   3    Male   47               1        28.0                  0   > 2 Years   \n",
              "3   4    Male   21               1        11.0                  1    < 1 Year   \n",
              "4   5  Female   29               1        41.0                  1    < 1 Year   \n",
              "\n",
              "  Vehicle_Damage  Annual_Premium  Policy_Sales_Channel  Vintage  Response  \n",
              "0            Yes         40454.0                  26.0      217         1  \n",
              "1             No         33536.0                  26.0      183         0  \n",
              "2            Yes         38294.0                  26.0       27         1  \n",
              "3             No         28619.0                 152.0      203         0  \n",
              "4             No         27496.0                 152.0       39         0  "
            ]
          },
          "execution_count": 111,
          "metadata": {},
          "output_type": "execute_result"
        }
      ],
      "source": [
        "df.head()"
      ]
    },
    {
      "cell_type": "code",
      "execution_count": null,
      "metadata": {
        "id": "Hhs7nk2OCcIn"
      },
      "outputs": [],
      "source": [
        "df['Gender'] = df['Gender'].map( {'Female': 0, 'Male': 1} ).astype(int)\n",
        "df['Vehicle_Damage'] = df['Vehicle_Damage'].map( {'No': 0, 'Yes': 1} ).astype(int)"
      ]
    },
    {
      "cell_type": "code",
      "execution_count": null,
      "metadata": {
        "id": "uWs0tvGZCcIn"
      },
      "outputs": [],
      "source": [
        "cats_label = ['Vehicle_Age']"
      ]
    },
    {
      "cell_type": "code",
      "execution_count": null,
      "metadata": {
        "id": "2GzkUGfACcIn"
      },
      "outputs": [],
      "source": [
        "df_new = df.copy()"
      ]
    },
    {
      "cell_type": "code",
      "execution_count": null,
      "metadata": {
        "id": "hUMxMFGVCcIo"
      },
      "outputs": [],
      "source": [
        "for cat in cats_label:\n",
        "    onehots = pd.get_dummies(df_new[cat], prefix=cat)\n",
        "    df_new = df_new.join(onehots)"
      ]
    },
    {
      "cell_type": "code",
      "execution_count": null,
      "metadata": {
        "id": "aVJtGdZtCcIo",
        "outputId": "8c7fb62e-3fd4-423e-812a-ef21daf8a76b"
      },
      "outputs": [
        {
          "data": {
            "text/html": [
              "<div>\n",
              "<style scoped>\n",
              "    .dataframe tbody tr th:only-of-type {\n",
              "        vertical-align: middle;\n",
              "    }\n",
              "\n",
              "    .dataframe tbody tr th {\n",
              "        vertical-align: top;\n",
              "    }\n",
              "\n",
              "    .dataframe thead th {\n",
              "        text-align: right;\n",
              "    }\n",
              "</style>\n",
              "<table border=\"1\" class=\"dataframe\">\n",
              "  <thead>\n",
              "    <tr style=\"text-align: right;\">\n",
              "      <th></th>\n",
              "      <th>id</th>\n",
              "      <th>Gender</th>\n",
              "      <th>Age</th>\n",
              "      <th>Driving_License</th>\n",
              "      <th>Region_Code</th>\n",
              "      <th>Previously_Insured</th>\n",
              "      <th>Vehicle_Age</th>\n",
              "      <th>Vehicle_Damage</th>\n",
              "      <th>Annual_Premium</th>\n",
              "      <th>Policy_Sales_Channel</th>\n",
              "      <th>Vintage</th>\n",
              "      <th>Response</th>\n",
              "      <th>Vehicle_Age_1-2 Year</th>\n",
              "      <th>Vehicle_Age_&lt; 1 Year</th>\n",
              "      <th>Vehicle_Age_&gt; 2 Years</th>\n",
              "    </tr>\n",
              "  </thead>\n",
              "  <tbody>\n",
              "    <tr>\n",
              "      <th>0</th>\n",
              "      <td>1</td>\n",
              "      <td>1</td>\n",
              "      <td>44</td>\n",
              "      <td>1</td>\n",
              "      <td>28.0</td>\n",
              "      <td>0</td>\n",
              "      <td>&gt; 2 Years</td>\n",
              "      <td>1</td>\n",
              "      <td>40454.0</td>\n",
              "      <td>26.0</td>\n",
              "      <td>217</td>\n",
              "      <td>1</td>\n",
              "      <td>0</td>\n",
              "      <td>0</td>\n",
              "      <td>1</td>\n",
              "    </tr>\n",
              "    <tr>\n",
              "      <th>1</th>\n",
              "      <td>2</td>\n",
              "      <td>1</td>\n",
              "      <td>76</td>\n",
              "      <td>1</td>\n",
              "      <td>3.0</td>\n",
              "      <td>0</td>\n",
              "      <td>1-2 Year</td>\n",
              "      <td>0</td>\n",
              "      <td>33536.0</td>\n",
              "      <td>26.0</td>\n",
              "      <td>183</td>\n",
              "      <td>0</td>\n",
              "      <td>1</td>\n",
              "      <td>0</td>\n",
              "      <td>0</td>\n",
              "    </tr>\n",
              "    <tr>\n",
              "      <th>2</th>\n",
              "      <td>3</td>\n",
              "      <td>1</td>\n",
              "      <td>47</td>\n",
              "      <td>1</td>\n",
              "      <td>28.0</td>\n",
              "      <td>0</td>\n",
              "      <td>&gt; 2 Years</td>\n",
              "      <td>1</td>\n",
              "      <td>38294.0</td>\n",
              "      <td>26.0</td>\n",
              "      <td>27</td>\n",
              "      <td>1</td>\n",
              "      <td>0</td>\n",
              "      <td>0</td>\n",
              "      <td>1</td>\n",
              "    </tr>\n",
              "    <tr>\n",
              "      <th>3</th>\n",
              "      <td>4</td>\n",
              "      <td>1</td>\n",
              "      <td>21</td>\n",
              "      <td>1</td>\n",
              "      <td>11.0</td>\n",
              "      <td>1</td>\n",
              "      <td>&lt; 1 Year</td>\n",
              "      <td>0</td>\n",
              "      <td>28619.0</td>\n",
              "      <td>152.0</td>\n",
              "      <td>203</td>\n",
              "      <td>0</td>\n",
              "      <td>0</td>\n",
              "      <td>1</td>\n",
              "      <td>0</td>\n",
              "    </tr>\n",
              "    <tr>\n",
              "      <th>4</th>\n",
              "      <td>5</td>\n",
              "      <td>0</td>\n",
              "      <td>29</td>\n",
              "      <td>1</td>\n",
              "      <td>41.0</td>\n",
              "      <td>1</td>\n",
              "      <td>&lt; 1 Year</td>\n",
              "      <td>0</td>\n",
              "      <td>27496.0</td>\n",
              "      <td>152.0</td>\n",
              "      <td>39</td>\n",
              "      <td>0</td>\n",
              "      <td>0</td>\n",
              "      <td>1</td>\n",
              "      <td>0</td>\n",
              "    </tr>\n",
              "  </tbody>\n",
              "</table>\n",
              "</div>"
            ],
            "text/plain": [
              "   id  Gender  Age Driving_License Region_Code Previously_Insured Vehicle_Age  \\\n",
              "0   1       1   44               1        28.0                  0   > 2 Years   \n",
              "1   2       1   76               1         3.0                  0    1-2 Year   \n",
              "2   3       1   47               1        28.0                  0   > 2 Years   \n",
              "3   4       1   21               1        11.0                  1    < 1 Year   \n",
              "4   5       0   29               1        41.0                  1    < 1 Year   \n",
              "\n",
              "   Vehicle_Damage  Annual_Premium  Policy_Sales_Channel  Vintage  Response  \\\n",
              "0               1         40454.0                  26.0      217         1   \n",
              "1               0         33536.0                  26.0      183         0   \n",
              "2               1         38294.0                  26.0       27         1   \n",
              "3               0         28619.0                 152.0      203         0   \n",
              "4               0         27496.0                 152.0       39         0   \n",
              "\n",
              "   Vehicle_Age_1-2 Year  Vehicle_Age_< 1 Year  Vehicle_Age_> 2 Years  \n",
              "0                     0                     0                      1  \n",
              "1                     1                     0                      0  \n",
              "2                     0                     0                      1  \n",
              "3                     0                     1                      0  \n",
              "4                     0                     1                      0  "
            ]
          },
          "execution_count": 116,
          "metadata": {},
          "output_type": "execute_result"
        }
      ],
      "source": [
        "df_new.head()"
      ]
    },
    {
      "cell_type": "code",
      "execution_count": null,
      "metadata": {
        "id": "uk2K58kTCcIo"
      },
      "outputs": [],
      "source": [
        "df_new = df_new.drop(['Vehicle_Age'], axis= 1)\n",
        "df_new = df_new.drop(['id'], axis= 1)"
      ]
    },
    {
      "cell_type": "code",
      "execution_count": null,
      "metadata": {
        "id": "-UM-ORjSCcIo",
        "outputId": "9e400c08-898f-48a7-ca26-c52853020c38"
      },
      "outputs": [
        {
          "name": "stdout",
          "output_type": "stream",
          "text": [
            "<class 'pandas.core.frame.DataFrame'>\n",
            "Int64Index: 379026 entries, 0 to 381108\n",
            "Data columns (total 13 columns):\n",
            " #   Column                 Non-Null Count   Dtype  \n",
            "---  ------                 --------------   -----  \n",
            " 0   Gender                 379026 non-null  int32  \n",
            " 1   Age                    379026 non-null  int64  \n",
            " 2   Driving_License        379026 non-null  object \n",
            " 3   Region_Code            379026 non-null  object \n",
            " 4   Previously_Insured     379026 non-null  object \n",
            " 5   Vehicle_Damage         379026 non-null  int32  \n",
            " 6   Annual_Premium         379026 non-null  float64\n",
            " 7   Policy_Sales_Channel   379026 non-null  float64\n",
            " 8   Vintage                379026 non-null  int64  \n",
            " 9   Response               379026 non-null  int32  \n",
            " 10  Vehicle_Age_1-2 Year   379026 non-null  uint8  \n",
            " 11  Vehicle_Age_< 1 Year   379026 non-null  uint8  \n",
            " 12  Vehicle_Age_> 2 Years  379026 non-null  uint8  \n",
            "dtypes: float64(2), int32(3), int64(2), object(3), uint8(3)\n",
            "memory usage: 36.6+ MB\n"
          ]
        }
      ],
      "source": [
        "df_new.info()"
      ]
    },
    {
      "cell_type": "code",
      "execution_count": null,
      "metadata": {
        "id": "fIt-g_dICcIo"
      },
      "outputs": [],
      "source": [
        "df_new['Previously_Insured']=df_new['Previously_Insured'].astype('int')\n",
        "df_new['Driving_License']=df_new['Driving_License'].astype('int')\n",
        "df_new['Region_Code']=df_new['Region_Code'].astype('int')"
      ]
    },
    {
      "cell_type": "code",
      "execution_count": null,
      "metadata": {
        "id": "xBTndOtwCcIp"
      },
      "outputs": [],
      "source": [
        "num_scaler = ['Age','Vintage']\n",
        "cat_scaler = ['Gender','Driving_License', 'Previously_Insured', 'Vehicle_Damage', 'Vehicle_Age_1-2 Year', 'Vehicle_Age_< 1 Year', 'Vehicle_Age_> 2 Years', 'Region_Code']"
      ]
    },
    {
      "cell_type": "code",
      "execution_count": null,
      "metadata": {
        "id": "iFmk6vKECcIp"
      },
      "outputs": [],
      "source": [
        "df_new = df_new.rename(columns = {'Vehicle_Age_1-2 Year' : 'Vehicle_Age_1_2_Year', 'Vehicle_Age_< 1 Year' : 'Vehicle_Age_Less_1_Year', 'Vehicle_Age_> 2 Years' : 'Vehicle_Age_More_2_Year'})"
      ]
    },
    {
      "cell_type": "code",
      "execution_count": null,
      "metadata": {
        "id": "yHW5KKfRCcIp"
      },
      "outputs": [],
      "source": [
        "from sklearn.preprocessing import StandardScaler, MinMaxScaler\n",
        "\n",
        "ss= StandardScaler()\n",
        "df_new[num_scaler] = ss.fit_transform(df_new[num_scaler])\n",
        "\n",
        "mm = MinMaxScaler()\n",
        "df_new[['Annual_Premium']] = mm.fit_transform(df_new[['Annual_Premium']])"
      ]
    },
    {
      "cell_type": "code",
      "execution_count": null,
      "metadata": {
        "id": "oZq6Mbn0CcIp"
      },
      "outputs": [],
      "source": [
        "# for column in cat_scaler:\n",
        "#     df_new[column] = df_new[column].astype('int')"
      ]
    },
    {
      "cell_type": "code",
      "execution_count": null,
      "metadata": {
        "id": "en999EAECcIp"
      },
      "outputs": [],
      "source": [
        "x = df_new.drop(columns=['Response']) # menggunakan semua feature kecuali target\n",
        "y = df_new['Response']"
      ]
    },
    {
      "cell_type": "code",
      "execution_count": null,
      "metadata": {
        "id": "OKOiKxxmCcIq",
        "outputId": "332af2b9-f766-4012-9c09-69410251ccc8"
      },
      "outputs": [
        {
          "data": {
            "text/html": [
              "<div>\n",
              "<style scoped>\n",
              "    .dataframe tbody tr th:only-of-type {\n",
              "        vertical-align: middle;\n",
              "    }\n",
              "\n",
              "    .dataframe tbody tr th {\n",
              "        vertical-align: top;\n",
              "    }\n",
              "\n",
              "    .dataframe thead th {\n",
              "        text-align: right;\n",
              "    }\n",
              "</style>\n",
              "<table border=\"1\" class=\"dataframe\">\n",
              "  <thead>\n",
              "    <tr style=\"text-align: right;\">\n",
              "      <th></th>\n",
              "      <th>Gender</th>\n",
              "      <th>Age</th>\n",
              "      <th>Driving_License</th>\n",
              "      <th>Region_Code</th>\n",
              "      <th>Previously_Insured</th>\n",
              "      <th>Vehicle_Damage</th>\n",
              "      <th>Annual_Premium</th>\n",
              "      <th>Policy_Sales_Channel</th>\n",
              "      <th>Vintage</th>\n",
              "      <th>Vehicle_Age_1_2_Year</th>\n",
              "      <th>Vehicle_Age_Less_1_Year</th>\n",
              "      <th>Vehicle_Age_More_2_Year</th>\n",
              "    </tr>\n",
              "  </thead>\n",
              "  <tbody>\n",
              "    <tr>\n",
              "      <th>0</th>\n",
              "      <td>1</td>\n",
              "      <td>0.335598</td>\n",
              "      <td>1</td>\n",
              "      <td>28</td>\n",
              "      <td>0</td>\n",
              "      <td>1</td>\n",
              "      <td>0.475343</td>\n",
              "      <td>26.0</td>\n",
              "      <td>0.748761</td>\n",
              "      <td>0</td>\n",
              "      <td>0</td>\n",
              "      <td>1</td>\n",
              "    </tr>\n",
              "    <tr>\n",
              "      <th>1</th>\n",
              "      <td>1</td>\n",
              "      <td>2.400284</td>\n",
              "      <td>1</td>\n",
              "      <td>3</td>\n",
              "      <td>0</td>\n",
              "      <td>0</td>\n",
              "      <td>0.388403</td>\n",
              "      <td>26.0</td>\n",
              "      <td>0.342402</td>\n",
              "      <td>1</td>\n",
              "      <td>0</td>\n",
              "      <td>0</td>\n",
              "    </tr>\n",
              "    <tr>\n",
              "      <th>2</th>\n",
              "      <td>1</td>\n",
              "      <td>0.529162</td>\n",
              "      <td>1</td>\n",
              "      <td>28</td>\n",
              "      <td>0</td>\n",
              "      <td>1</td>\n",
              "      <td>0.448198</td>\n",
              "      <td>26.0</td>\n",
              "      <td>-1.522069</td>\n",
              "      <td>0</td>\n",
              "      <td>0</td>\n",
              "      <td>1</td>\n",
              "    </tr>\n",
              "    <tr>\n",
              "      <th>3</th>\n",
              "      <td>1</td>\n",
              "      <td>-1.148396</td>\n",
              "      <td>1</td>\n",
              "      <td>11</td>\n",
              "      <td>1</td>\n",
              "      <td>0</td>\n",
              "      <td>0.326610</td>\n",
              "      <td>152.0</td>\n",
              "      <td>0.581437</td>\n",
              "      <td>0</td>\n",
              "      <td>1</td>\n",
              "      <td>0</td>\n",
              "    </tr>\n",
              "    <tr>\n",
              "      <th>4</th>\n",
              "      <td>0</td>\n",
              "      <td>-0.632224</td>\n",
              "      <td>1</td>\n",
              "      <td>41</td>\n",
              "      <td>1</td>\n",
              "      <td>0</td>\n",
              "      <td>0.312497</td>\n",
              "      <td>152.0</td>\n",
              "      <td>-1.378648</td>\n",
              "      <td>0</td>\n",
              "      <td>1</td>\n",
              "      <td>0</td>\n",
              "    </tr>\n",
              "    <tr>\n",
              "      <th>...</th>\n",
              "      <td>...</td>\n",
              "      <td>...</td>\n",
              "      <td>...</td>\n",
              "      <td>...</td>\n",
              "      <td>...</td>\n",
              "      <td>...</td>\n",
              "      <td>...</td>\n",
              "      <td>...</td>\n",
              "      <td>...</td>\n",
              "      <td>...</td>\n",
              "      <td>...</td>\n",
              "      <td>...</td>\n",
              "    </tr>\n",
              "    <tr>\n",
              "      <th>381104</th>\n",
              "      <td>1</td>\n",
              "      <td>2.271241</td>\n",
              "      <td>1</td>\n",
              "      <td>26</td>\n",
              "      <td>1</td>\n",
              "      <td>0</td>\n",
              "      <td>0.346102</td>\n",
              "      <td>26.0</td>\n",
              "      <td>-0.793013</td>\n",
              "      <td>1</td>\n",
              "      <td>0</td>\n",
              "      <td>0</td>\n",
              "    </tr>\n",
              "    <tr>\n",
              "      <th>381105</th>\n",
              "      <td>1</td>\n",
              "      <td>-0.567703</td>\n",
              "      <td>1</td>\n",
              "      <td>37</td>\n",
              "      <td>1</td>\n",
              "      <td>0</td>\n",
              "      <td>0.469839</td>\n",
              "      <td>152.0</td>\n",
              "      <td>-0.279088</td>\n",
              "      <td>0</td>\n",
              "      <td>1</td>\n",
              "      <td>0</td>\n",
              "    </tr>\n",
              "    <tr>\n",
              "      <th>381106</th>\n",
              "      <td>1</td>\n",
              "      <td>-1.148396</td>\n",
              "      <td>1</td>\n",
              "      <td>30</td>\n",
              "      <td>1</td>\n",
              "      <td>0</td>\n",
              "      <td>0.408284</td>\n",
              "      <td>160.0</td>\n",
              "      <td>0.079464</td>\n",
              "      <td>0</td>\n",
              "      <td>1</td>\n",
              "      <td>0</td>\n",
              "    </tr>\n",
              "    <tr>\n",
              "      <th>381107</th>\n",
              "      <td>0</td>\n",
              "      <td>1.884112</td>\n",
              "      <td>1</td>\n",
              "      <td>14</td>\n",
              "      <td>0</td>\n",
              "      <td>1</td>\n",
              "      <td>0.527660</td>\n",
              "      <td>124.0</td>\n",
              "      <td>-0.960337</td>\n",
              "      <td>0</td>\n",
              "      <td>0</td>\n",
              "      <td>1</td>\n",
              "    </tr>\n",
              "    <tr>\n",
              "      <th>381108</th>\n",
              "      <td>1</td>\n",
              "      <td>0.464640</td>\n",
              "      <td>1</td>\n",
              "      <td>29</td>\n",
              "      <td>0</td>\n",
              "      <td>0</td>\n",
              "      <td>0.491970</td>\n",
              "      <td>26.0</td>\n",
              "      <td>0.987796</td>\n",
              "      <td>1</td>\n",
              "      <td>0</td>\n",
              "      <td>0</td>\n",
              "    </tr>\n",
              "  </tbody>\n",
              "</table>\n",
              "<p>379026 rows × 12 columns</p>\n",
              "</div>"
            ],
            "text/plain": [
              "        Gender       Age  Driving_License  Region_Code  Previously_Insured  \\\n",
              "0            1  0.335598                1           28                   0   \n",
              "1            1  2.400284                1            3                   0   \n",
              "2            1  0.529162                1           28                   0   \n",
              "3            1 -1.148396                1           11                   1   \n",
              "4            0 -0.632224                1           41                   1   \n",
              "...        ...       ...              ...          ...                 ...   \n",
              "381104       1  2.271241                1           26                   1   \n",
              "381105       1 -0.567703                1           37                   1   \n",
              "381106       1 -1.148396                1           30                   1   \n",
              "381107       0  1.884112                1           14                   0   \n",
              "381108       1  0.464640                1           29                   0   \n",
              "\n",
              "        Vehicle_Damage  Annual_Premium  Policy_Sales_Channel   Vintage  \\\n",
              "0                    1        0.475343                  26.0  0.748761   \n",
              "1                    0        0.388403                  26.0  0.342402   \n",
              "2                    1        0.448198                  26.0 -1.522069   \n",
              "3                    0        0.326610                 152.0  0.581437   \n",
              "4                    0        0.312497                 152.0 -1.378648   \n",
              "...                ...             ...                   ...       ...   \n",
              "381104               0        0.346102                  26.0 -0.793013   \n",
              "381105               0        0.469839                 152.0 -0.279088   \n",
              "381106               0        0.408284                 160.0  0.079464   \n",
              "381107               1        0.527660                 124.0 -0.960337   \n",
              "381108               0        0.491970                  26.0  0.987796   \n",
              "\n",
              "        Vehicle_Age_1_2_Year  Vehicle_Age_Less_1_Year  Vehicle_Age_More_2_Year  \n",
              "0                          0                        0                        1  \n",
              "1                          1                        0                        0  \n",
              "2                          0                        0                        1  \n",
              "3                          0                        1                        0  \n",
              "4                          0                        1                        0  \n",
              "...                      ...                      ...                      ...  \n",
              "381104                     1                        0                        0  \n",
              "381105                     0                        1                        0  \n",
              "381106                     0                        1                        0  \n",
              "381107                     0                        0                        1  \n",
              "381108                     1                        0                        0  \n",
              "\n",
              "[379026 rows x 12 columns]"
            ]
          },
          "execution_count": 125,
          "metadata": {},
          "output_type": "execute_result"
        }
      ],
      "source": [
        "x"
      ]
    },
    {
      "cell_type": "code",
      "execution_count": null,
      "metadata": {
        "id": "Ix-x6iwkCcIq"
      },
      "outputs": [],
      "source": [
        "from sklearn.model_selection import train_test_split\n",
        "xtrain, xtest, ytrain, ytest = train_test_split(x,y,test_size=1/3, random_state=42) #Splitting the data into Train and Test"
      ]
    },
    {
      "cell_type": "code",
      "execution_count": null,
      "metadata": {
        "id": "ZPWr4WiMCcIq"
      },
      "outputs": [],
      "source": [
        "from imblearn.over_sampling import SMOTE\n",
        "SMOTE = SMOTE(1)\n",
        "xtrain_SMOTE, ytrain_SMOTE = SMOTE.fit_resample(xtrain, ytrain)"
      ]
    },
    {
      "cell_type": "code",
      "execution_count": null,
      "metadata": {
        "id": "dGDBp_rFCcIq",
        "outputId": "8c490026-80e1-4d43-aaae-34c0e76fc16d"
      },
      "outputs": [
        {
          "data": {
            "text/plain": [
              "(443454,)"
            ]
          },
          "execution_count": 128,
          "metadata": {},
          "output_type": "execute_result"
        }
      ],
      "source": [
        "ytrain_SMOTE.shape"
      ]
    },
    {
      "cell_type": "code",
      "execution_count": null,
      "metadata": {
        "id": "Lrezo02rCcIq",
        "outputId": "95e39575-2b7e-4009-a1a8-0addf471d0f1"
      },
      "outputs": [
        {
          "data": {
            "text/plain": [
              "(443454, 12)"
            ]
          },
          "execution_count": 51,
          "metadata": {},
          "output_type": "execute_result"
        }
      ],
      "source": [
        "xtrain_SMOTE.shape"
      ]
    },
    {
      "cell_type": "code",
      "execution_count": null,
      "metadata": {
        "id": "enofXbfCCcIr",
        "outputId": "857447ac-5d65-4d37-e7e5-602c09c0f98a"
      },
      "outputs": [
        {
          "data": {
            "text/html": [
              "<div>\n",
              "<style scoped>\n",
              "    .dataframe tbody tr th:only-of-type {\n",
              "        vertical-align: middle;\n",
              "    }\n",
              "\n",
              "    .dataframe tbody tr th {\n",
              "        vertical-align: top;\n",
              "    }\n",
              "\n",
              "    .dataframe thead th {\n",
              "        text-align: right;\n",
              "    }\n",
              "</style>\n",
              "<table border=\"1\" class=\"dataframe\">\n",
              "  <thead>\n",
              "    <tr style=\"text-align: right;\">\n",
              "      <th></th>\n",
              "      <th>Gender</th>\n",
              "      <th>Age</th>\n",
              "      <th>Driving_License</th>\n",
              "      <th>Region_Code</th>\n",
              "      <th>Previously_Insured</th>\n",
              "      <th>Vehicle_Damage</th>\n",
              "      <th>Annual_Premium</th>\n",
              "      <th>Policy_Sales_Channel</th>\n",
              "      <th>Vintage</th>\n",
              "      <th>Response</th>\n",
              "      <th>Vehicle_Age_1_2_Year</th>\n",
              "      <th>Vehicle_Age_Less_1_Year</th>\n",
              "      <th>Vehicle_Age_More_2_Year</th>\n",
              "    </tr>\n",
              "  </thead>\n",
              "  <tbody>\n",
              "    <tr>\n",
              "      <th>333873</th>\n",
              "      <td>0</td>\n",
              "      <td>-0.503181</td>\n",
              "      <td>1</td>\n",
              "      <td>16</td>\n",
              "      <td>0</td>\n",
              "      <td>1</td>\n",
              "      <td>0.000000</td>\n",
              "      <td>157.0</td>\n",
              "      <td>1.155120</td>\n",
              "      <td>1</td>\n",
              "      <td>1</td>\n",
              "      <td>0</td>\n",
              "      <td>0</td>\n",
              "    </tr>\n",
              "    <tr>\n",
              "      <th>52735</th>\n",
              "      <td>0</td>\n",
              "      <td>2.271241</td>\n",
              "      <td>1</td>\n",
              "      <td>28</td>\n",
              "      <td>1</td>\n",
              "      <td>1</td>\n",
              "      <td>0.484203</td>\n",
              "      <td>124.0</td>\n",
              "      <td>0.294595</td>\n",
              "      <td>0</td>\n",
              "      <td>1</td>\n",
              "      <td>0</td>\n",
              "      <td>0</td>\n",
              "    </tr>\n",
              "    <tr>\n",
              "      <th>193373</th>\n",
              "      <td>1</td>\n",
              "      <td>0.142033</td>\n",
              "      <td>1</td>\n",
              "      <td>28</td>\n",
              "      <td>0</td>\n",
              "      <td>1</td>\n",
              "      <td>0.396672</td>\n",
              "      <td>26.0</td>\n",
              "      <td>-0.649592</td>\n",
              "      <td>0</td>\n",
              "      <td>1</td>\n",
              "      <td>0</td>\n",
              "      <td>0</td>\n",
              "    </tr>\n",
              "    <tr>\n",
              "      <th>140006</th>\n",
              "      <td>0</td>\n",
              "      <td>0.012990</td>\n",
              "      <td>1</td>\n",
              "      <td>41</td>\n",
              "      <td>1</td>\n",
              "      <td>0</td>\n",
              "      <td>0.000000</td>\n",
              "      <td>155.0</td>\n",
              "      <td>-1.127662</td>\n",
              "      <td>0</td>\n",
              "      <td>1</td>\n",
              "      <td>0</td>\n",
              "      <td>0</td>\n",
              "    </tr>\n",
              "    <tr>\n",
              "      <th>153354</th>\n",
              "      <td>0</td>\n",
              "      <td>-1.148396</td>\n",
              "      <td>1</td>\n",
              "      <td>7</td>\n",
              "      <td>0</td>\n",
              "      <td>1</td>\n",
              "      <td>0.822651</td>\n",
              "      <td>160.0</td>\n",
              "      <td>-1.677441</td>\n",
              "      <td>0</td>\n",
              "      <td>0</td>\n",
              "      <td>1</td>\n",
              "      <td>0</td>\n",
              "    </tr>\n",
              "  </tbody>\n",
              "</table>\n",
              "</div>"
            ],
            "text/plain": [
              "        Gender       Age  Driving_License  Region_Code  Previously_Insured  \\\n",
              "333873       0 -0.503181                1           16                   0   \n",
              "52735        0  2.271241                1           28                   1   \n",
              "193373       1  0.142033                1           28                   0   \n",
              "140006       0  0.012990                1           41                   1   \n",
              "153354       0 -1.148396                1            7                   0   \n",
              "\n",
              "        Vehicle_Damage  Annual_Premium  Policy_Sales_Channel   Vintage  \\\n",
              "333873               1        0.000000                 157.0  1.155120   \n",
              "52735                1        0.484203                 124.0  0.294595   \n",
              "193373               1        0.396672                  26.0 -0.649592   \n",
              "140006               0        0.000000                 155.0 -1.127662   \n",
              "153354               1        0.822651                 160.0 -1.677441   \n",
              "\n",
              "        Response  Vehicle_Age_1_2_Year  Vehicle_Age_Less_1_Year  \\\n",
              "333873         1                     1                        0   \n",
              "52735          0                     1                        0   \n",
              "193373         0                     1                        0   \n",
              "140006         0                     1                        0   \n",
              "153354         0                     0                        1   \n",
              "\n",
              "        Vehicle_Age_More_2_Year  \n",
              "333873                        0  \n",
              "52735                         0  \n",
              "193373                        0  \n",
              "140006                        0  \n",
              "153354                        0  "
            ]
          },
          "execution_count": 129,
          "metadata": {},
          "output_type": "execute_result"
        }
      ],
      "source": [
        "df_new.sample(5)"
      ]
    },
    {
      "cell_type": "markdown",
      "metadata": {
        "id": "qH20jZepCcIr"
      },
      "source": [
        "## Model apa yang ingin dibuat dan digunakan untuk apa"
      ]
    },
    {
      "cell_type": "markdown",
      "metadata": {
        "id": "J8UktbhHCcIr"
      },
      "source": [
        "1. Logistic Regresion\n",
        "2. Desicion Tree\n",
        "3. Random Forest\n",
        "4. XGBoost"
      ]
    },
    {
      "cell_type": "code",
      "execution_count": null,
      "metadata": {
        "id": "YNX2MKqsCcIs"
      },
      "outputs": [],
      "source": [
        "# from sklearn.tree import DecisionTreeClassifier\n",
        "# model = DecisionTreeClassifier()\n",
        "# model.fit(xtrain, ytrain)\n",
        "# y_pred = model.predict(xtest) # prediksi"
      ]
    },
    {
      "cell_type": "code",
      "execution_count": null,
      "metadata": {
        "id": "cCda5KlVCcIs"
      },
      "outputs": [],
      "source": [
        "# from sklearn.metrics import classification_report\n",
        "# print (classification_report(ytest, y_pred))"
      ]
    },
    {
      "cell_type": "code",
      "execution_count": null,
      "metadata": {
        "id": "QNF0v0gkCcIs"
      },
      "outputs": [],
      "source": [
        "from sklearn.metrics import accuracy_score, precision_score, recall_score, f1_score\n",
        "from sklearn.metrics import roc_curve, auc\n",
        "\n",
        "def eval_classification(model, pred, xtrain_SMOTE, ytrain_SMOTE, xtest, ytest):\n",
        "    print(\"Accuracy (Test Set): %.2f\" % accuracy_score(ytest, pred))\n",
        "    print(\"Precision (Test Set): %.2f\" % precision_score(ytest, pred))\n",
        "    print(\"Recall (Test Set): %.2f\" % recall_score(ytest, pred))\n",
        "    print(\"F1-Score (Test Set): %.2f\" % f1_score(ytest, pred))\n",
        "\n",
        "    fpr, tpr, thresholds = roc_curve(ytest, pred, pos_label=1)\n",
        "    print(\"AUC: %.2f\" % auc(fpr, tpr))"
      ]
    },
    {
      "cell_type": "code",
      "execution_count": null,
      "metadata": {
        "id": "L3A6-BMeCcIs"
      },
      "outputs": [],
      "source": [
        "def show_feature_importance(model):\n",
        "    feat_importances = pd.Series(model.feature_importances_, index=X.columns)\n",
        "    ax = feat_importances.nlargest(25).plot(kind='barh', figsize=(10, 8))\n",
        "    ax.invert_yaxis()\n",
        "\n",
        "    plt.xlabel('score')\n",
        "    plt.ylabel('feature')\n",
        "    plt.title('feature importance score')"
      ]
    },
    {
      "cell_type": "markdown",
      "metadata": {
        "id": "DYG2VS4cCcIs"
      },
      "source": [
        "### 1. Logistic Regresion"
      ]
    },
    {
      "cell_type": "code",
      "execution_count": null,
      "metadata": {
        "id": "NbjnOzT1CcIt"
      },
      "outputs": [],
      "source": [
        "from sklearn.linear_model import LogisticRegression\n",
        "lr = LogisticRegression(random_state=42)\n",
        "lr.fit(xtrain_SMOTE, ytrain_SMOTE)\n",
        "y_pred = lr.predict(xtest)"
      ]
    },
    {
      "cell_type": "code",
      "execution_count": null,
      "metadata": {
        "id": "rbc_QDSdCcIt",
        "outputId": "84d14aea-d433-4175-a944-7a7afb062195"
      },
      "outputs": [
        {
          "name": "stdout",
          "output_type": "stream",
          "text": [
            "Accuracy (Test Set): 0.64\n",
            "Precision (Test Set): 0.25\n",
            "Recall (Test Set): 0.97\n",
            "F1-Score (Test Set): 0.40\n",
            "AUC: 0.78\n"
          ]
        }
      ],
      "source": [
        "eval_classification(lr, y_pred, xtrain_SMOTE, ytrain_SMOTE, xtest, ytest)"
      ]
    },
    {
      "cell_type": "code",
      "execution_count": null,
      "metadata": {
        "id": "i6Ghu-USCcIt",
        "outputId": "71e1b1de-91dc-4d0e-adaf-1b807cac5d93"
      },
      "outputs": [
        {
          "name": "stdout",
          "output_type": "stream",
          "text": [
            "Train score:0.642866188599199\n",
            "Test score:0.6428582735748999\n"
          ]
        }
      ],
      "source": [
        "print('Train score:' + str(lr.score(xtrain, ytrain))) #accuracy\n",
        "print('Test score:' + str(lr.score(xtest, ytest))) #accuracy"
      ]
    },
    {
      "cell_type": "markdown",
      "metadata": {
        "id": "YyyQ_DwcCcIt"
      },
      "source": [
        "pertanyaan apakah untuk mengetahui model overfit atau tidak bisa hanya dengan accuracy atau dapat menggunakan model evalusasi lainnya seperti f1 score, dan sebagainya"
      ]
    },
    {
      "cell_type": "code",
      "execution_count": null,
      "metadata": {
        "id": "FEYOnONdCcIt",
        "outputId": "1ec067b7-2a4d-47db-cb46-75336e0e8cfb"
      },
      "outputs": [
        {
          "data": {
            "text/plain": [
              "array([[66304, 44607],\n",
              "       [  515, 14916]], dtype=int64)"
            ]
          },
          "execution_count": 59,
          "metadata": {},
          "output_type": "execute_result"
        }
      ],
      "source": [
        "from sklearn.metrics import confusion_matrix\n",
        "confusion_matrix(ytest, y_pred) "
      ]
    },
    {
      "cell_type": "code",
      "execution_count": null,
      "metadata": {
        "id": "2kWct_KGCcIu",
        "outputId": "eb234007-f1ea-4cae-852d-64c7aeac75fa"
      },
      "outputs": [
        {
          "data": {
            "image/png": "[encoded data removed]",
            "text/plain": [
              "<Figure size 720x360 with 2 Axes>"
            ]
          },
          "metadata": {
            "needs_background": "light"
          },
          "output_type": "display_data"
        }
      ],
      "source": [
        "f, ax = plt.subplots(figsize=(10,5))\n",
        "sns.heatmap(confusion_matrix(ytest, y_pred), annot=True, fmt=\".0f\", ax=ax)\n",
        "plt.xlabel(\"y_head\")\n",
        "plt.ylabel(\"y_true\")\n",
        "plt.show()"
      ]
    },
    {
      "cell_type": "markdown",
      "metadata": {
        "id": "nmrTsNO1CcIu"
      },
      "source": [
        "### 2. Decision Tree"
      ]
    },
    {
      "cell_type": "code",
      "execution_count": null,
      "metadata": {
        "id": "4hpUAf-dCcIu"
      },
      "outputs": [],
      "source": [
        "from sklearn.tree import DecisionTreeRegressor\n",
        "dt = DecisionTreeRegressor()\n",
        "dt.fit(xtrain_SMOTE, ytrain_SMOTE)\n",
        "y_pred = dt.predict(xtest)"
      ]
    },
    {
      "cell_type": "code",
      "execution_count": null,
      "metadata": {
        "id": "8T2Ns24ICcIu",
        "outputId": "ce70e7d7-e687-4e1b-aabf-f3900d063f46"
      },
      "outputs": [
        {
          "name": "stdout",
          "output_type": "stream",
          "text": [
            "Train score:0.9994846190867757\n",
            "Test score:-0.741729189959017\n"
          ]
        }
      ],
      "source": [
        "print('Train score:' + str(dt.score(xtrain, ytrain)))\n",
        "print('Test score:' + str(dt.score(xtest, ytest)))"
      ]
    },
    {
      "cell_type": "code",
      "execution_count": null,
      "metadata": {
        "id": "40OZRFGlCcIu",
        "outputId": "ddc702fe-3644-441d-f3ec-7fe7d194a7c6"
      },
      "outputs": [
        {
          "name": "stdout",
          "output_type": "stream",
          "text": [
            "AUC: 0.61\n"
          ]
        }
      ],
      "source": [
        "fpr, tpr, thresholds = roc_curve(ytest, y_pred, pos_label=1)\n",
        "print(\"AUC: %.2f\" % auc(fpr, tpr))"
      ]
    },
    {
      "cell_type": "markdown",
      "metadata": {
        "id": "Caio9oJLCcIv"
      },
      "source": [
        "### 3. Random Forest"
      ]
    },
    {
      "cell_type": "code",
      "execution_count": null,
      "metadata": {
        "id": "7tA09xbxCcIv",
        "outputId": "0893c26e-fac9-4247-ad43-4180734b0fca"
      },
      "outputs": [
        {
          "data": {
            "text/plain": [
              "RandomForestClassifier(random_state=42)"
            ]
          },
          "execution_count": 66,
          "metadata": {},
          "output_type": "execute_result"
        }
      ],
      "source": [
        "from sklearn.ensemble import RandomForestClassifier\n",
        "rf = RandomForestClassifier(random_state=42)\n",
        "rf.fit(xtrain_SMOTE, ytrain_SMOTE)"
      ]
    },
    {
      "cell_type": "code",
      "execution_count": null,
      "metadata": {
        "id": "4oZf3khrCcIv",
        "outputId": "499abcd7-6f8a-443f-94a9-94278d261835"
      },
      "outputs": [
        {
          "name": "stdout",
          "output_type": "stream",
          "text": [
            "Train score:0.9998852321476627\n",
            "Test score:0.8165297367462918\n"
          ]
        }
      ],
      "source": [
        "print('Train score:' + str(rf.score(xtrain, ytrain)))\n",
        "print('Test score:' + str(rf.score(xtest, ytest)))"
      ]
    },
    {
      "cell_type": "code",
      "execution_count": null,
      "metadata": {
        "id": "sudsM_xUCcIv",
        "outputId": "3ea375d1-b2fa-4742-d483-107987de9be2"
      },
      "outputs": [
        {
          "name": "stdout",
          "output_type": "stream",
          "text": [
            "Accuracy (Test Set): 0.82\n",
            "Precision (Test Set): 0.32\n",
            "Recall (Test Set): 0.46\n",
            "F1-Score (Test Set): 0.38\n",
            "AUC: 0.66\n"
          ]
        }
      ],
      "source": [
        "y_pred = rf.predict(xtest)\n",
        "eval_classification(rf, y_pred, xtrain_SMOTE, ytrain_SMOTE, xtest, ytest)"
      ]
    },
    {
      "cell_type": "code",
      "execution_count": null,
      "metadata": {
        "execution": {
          "iopub.execute_input": "2021-11-10T01:49:46.08208Z",
          "iopub.status.busy": "2021-11-10T01:49:46.081818Z",
          "iopub.status.idle": "2021-11-10T02:56:38.464774Z",
          "shell.execute_reply": "2021-11-10T02:56:38.463244Z",
          "shell.execute_reply.started": "2021-11-10T01:49:46.082053Z"
        },
        "id": "fAFZS0nRW98s"
      },
      "outputs": [],
      "source": [
        "# hyperparameter\n",
        "from sklearn.model_selection import RandomizedSearchCV,GridSearchCV\n",
        "#List Hyperparameters yang akan diuji\n",
        "hyperparameters = {'criterion': ['entropy', 'gini'],\n",
        "               'max_depth': [2,3,4,5,6,7,10],\n",
        "               'min_samples_leaf': [4, 6, 8],\n",
        "               'min_samples_split': [5, 7,10],\n",
        "               'n_estimators': [300]}\n",
        "\n",
        "# Init\n",
        "rfc = RandomForestClassifier(random_state=42)\n",
        "rfc_tuned = RandomizedSearchCV(rf, hyperparameters, cv=5, random_state=42, scoring='recall')\n",
        "rfc_tuned.fit(xtrain_SMOTE, ytrain_SMOTE)"
      ]
    },
    {
      "cell_type": "code",
      "execution_count": null,
      "metadata": {
        "id": "odRUfnD_CcIw",
        "outputId": "0f42a47f-37d5-45d6-d0bc-a4c3487dba36"
      },
      "outputs": [
        {
          "ename": "NameError",
          "evalue": "name 'ypred' is not defined",
          "output_type": "error",
          "traceback": [
            "\u001b[1;31m---------------------------------------------------------------------------\u001b[0m",
            "\u001b[1;31mNameError\u001b[0m                                 Traceback (most recent call last)",
            "\u001b[1;32m~\\AppData\\Local\\Temp/ipykernel_5772/344501798.py\u001b[0m in \u001b[0;36m<module>\u001b[1;34m\u001b[0m\n\u001b[0;32m      1\u001b[0m \u001b[1;31m# Predict & Evaluation\u001b[0m\u001b[1;33m\u001b[0m\u001b[1;33m\u001b[0m\u001b[1;33m\u001b[0m\u001b[0m\n\u001b[0;32m      2\u001b[0m \u001b[0my_pred\u001b[0m \u001b[1;33m=\u001b[0m \u001b[0mrf_tuned\u001b[0m\u001b[1;33m.\u001b[0m\u001b[0mpredict\u001b[0m\u001b[1;33m(\u001b[0m\u001b[0mxtest\u001b[0m\u001b[1;33m)\u001b[0m\u001b[1;31m#Check performa dari model\u001b[0m\u001b[1;33m\u001b[0m\u001b[1;33m\u001b[0m\u001b[0m\n\u001b[1;32m----> 3\u001b[1;33m \u001b[0meval_classification\u001b[0m\u001b[1;33m(\u001b[0m\u001b[0mrf_tuned\u001b[0m\u001b[1;33m,\u001b[0m \u001b[0mypred\u001b[0m\u001b[1;33m,\u001b[0m \u001b[0mxtrain\u001b[0m\u001b[1;33m,\u001b[0m \u001b[0mytrain\u001b[0m\u001b[1;33m,\u001b[0m \u001b[0mxtest\u001b[0m\u001b[1;33m,\u001b[0m \u001b[0mytest\u001b[0m\u001b[1;33m)\u001b[0m\u001b[1;33m\u001b[0m\u001b[1;33m\u001b[0m\u001b[0m\n\u001b[0m",
            "\u001b[1;31mNameError\u001b[0m: name 'ypred' is not defined"
          ]
        }
      ],
      "source": [
        "# Predict & Evaluation\n",
        "y_pred = rf_tuned.predict(xtest)#Check performa dari model\n",
        "eval_classification(rf_tuned, ypred, xtrain, ytrain, xtest, ytest)"
      ]
    },
    {
      "cell_type": "code",
      "execution_count": null,
      "metadata": {
        "id": "e2Q-BER8CcIw"
      },
      "outputs": [],
      "source": [
        "filename = 'rf_model.sav'\n",
        "pickle.dump(model, open(filename, 'wb'))"
      ]
    },
    {
      "cell_type": "code",
      "execution_count": null,
      "metadata": {
        "id": "D1LsfuDUCcIw"
      },
      "outputs": [],
      "source": [
        "filename = 'rf_model.sav'"
      ]
    },
    {
      "cell_type": "markdown",
      "metadata": {
        "id": "dGprapDZCcIw"
      },
      "source": [
        "### 4. XGBoost"
      ]
    },
    {
      "cell_type": "code",
      "execution_count": null,
      "metadata": {
        "id": "tn01rB15CcIx",
        "outputId": "001d3d8a-0271-4977-95ab-6e8eb0f12bcc"
      },
      "outputs": [
        {
          "name": "stdout",
          "output_type": "stream",
          "text": [
            "[01:03:58] WARNING: C:/Users/Administrator/workspace/xgboost-win64_release_1.5.0/src/learner.cc:1115: Starting in XGBoost 1.3.0, the default evaluation metric used with the objective 'binary:logistic' was changed from 'error' to 'logloss'. Explicitly set eval_metric if you'd like to restore the old behavior.\n"
          ]
        },
        {
          "data": {
            "text/plain": [
              "XGBClassifier(base_score=0.5, booster='gbtree', colsample_bylevel=1,\n",
              "              colsample_bynode=1, colsample_bytree=1, enable_categorical=False,\n",
              "              gamma=0, gpu_id=-1, importance_type=None,\n",
              "              interaction_constraints='', learning_rate=0.300000012,\n",
              "              max_delta_step=0, max_depth=6, min_child_weight=1, missing=nan,\n",
              "              monotone_constraints='()', n_estimators=100, n_jobs=8,\n",
              "              num_parallel_tree=1, predictor='auto', random_state=42,\n",
              "              reg_alpha=0, reg_lambda=1, scale_pos_weight=1, subsample=1,\n",
              "              tree_method='exact', validate_parameters=1, verbosity=None)"
            ]
          },
          "execution_count": 73,
          "metadata": {},
          "output_type": "execute_result"
        }
      ],
      "source": [
        "from xgboost import XGBClassifier\n",
        "xg = XGBClassifier(random_state=42)\n",
        "xg.fit(xtrain_SMOTE, ytrain_SMOTE)"
      ]
    },
    {
      "cell_type": "code",
      "execution_count": null,
      "metadata": {
        "id": "nWZYfuhGCcIx",
        "outputId": "945d6d25-5366-4651-a465-bbc88811b392"
      },
      "outputs": [
        {
          "name": "stdout",
          "output_type": "stream",
          "text": [
            "AUC: 0.68\n"
          ]
        }
      ],
      "source": [
        "y_pred = xg.predict(xtest)\n",
        "fpr, tpr, thresholds\n",
        "= roc_curve(ytest, y_pred, pos_label=1)\n",
        "print(\"AUC: %.2f\" % auc(fpr, tpr))"
      ]
    },
    {
      "cell_type": "code",
      "execution_count": null,
      "metadata": {
        "id": "j0clZ2lKCcIz"
      },
      "outputs": [],
      "source": [
        "print('Train score:' + str(xg.score(xtrain_SMOTE, xtrain_SMOTE)))\n",
        "print('Test score:' + str(xg.score(xtest, ytest)))\n",
        "print('================================================')\n",
        "print(\"Accuracy (Test Set): %.2f\" % accuracy_score(ytest, y_pred))\n",
        "print(\"Precision (Test Set): %.2f\" % precision_score(ytest, y_pred))\n",
        "print(\"Recall (Test Set): %.2f\" % recall_score(ytest, y_pred))\n",
        "print(\"F1-Score (Test Set): %.2f\" % f1_score(ytest, y_pred))\n",
        "fpr, tpr, thresholds = roc_curve(ytest, y_pred, pos_label=1)\n",
        "print(\"AUC: %.2f\" % auc(fpr, tpr))"
      ]
    },
    {
      "cell_type": "markdown",
      "metadata": {
        "id": "dCilMs7zCcIz"
      },
      "source": [
        "from catboost import CatBoostRegressor\n",
        "\n",
        "cb = CatBoostRegressor(iterations=2,\n",
        "                          learning_rate=1,\n",
        "                          depth=2)\n",
        "cb.fit(xtrain, ytrain)\n",
        "\n",
        "y_pred = cb.predict(xtest)\n",
        "eval_classification(cb, y_pred, xtrain, ytrain, xtest, ytest)"
      ]
    },
    {
      "cell_type": "markdown",
      "metadata": {
        "id": "H8z64PHkCcIz"
      },
      "source": [
        "<br>Perbandingan hasil dari berbagai algoritma model yang dicoba\n"
      ]
    },
    {
      "cell_type": "markdown",
      "metadata": {
        "id": "IhT398ZTCcI0"
      },
      "source": [
        "## Penjelasan langkah-langkah dalam modelling"
      ]
    },
    {
      "cell_type": "markdown",
      "metadata": {
        "id": "oZHb2sEsCcI0"
      },
      "source": [
        "#### 1. Perencanaan Model dan Pengumpulan data"
      ]
    },
    {
      "cell_type": "markdown",
      "metadata": {
        "id": "UTPmpBJ1CcI0"
      },
      "source": [
        "Tujuan pembuatan machine learning adalah untuk mengetahui potensi pembeli yang akan melakukan cross buying untuk asurasi. "
      ]
    },
    {
      "cell_type": "markdown",
      "metadata": {
        "id": "lbR8ZopICcI0"
      },
      "source": [
        "#### 2. Persiapan data"
      ]
    },
    {
      "cell_type": "markdown",
      "metadata": {
        "id": "ILbRtVL8CcI0"
      },
      "source": [
        "Memisahkan antara traning dan testing dataset bertujuan untuk memberikan data khusus untuk machine learning belajar dan testing dataset digunakan untuk mengevaluasi kemampuan machine learning dari hasil belajar untuk diketahui tingkat error pada machine learning. Penggunaan parameter cv(cross valdation) digunakan untuk memvalidasi model hasil belajar"
      ]
    },
    {
      "cell_type": "markdown",
      "metadata": {
        "id": "LsyiK-uCCcI0"
      },
      "source": [
        "#### 3. Training Model"
      ]
    },
    {
      "cell_type": "markdown",
      "metadata": {
        "id": "e5ktbPUnCcI1"
      },
      "source": [
        "Model menggunakan algoritma linear regression, random forest, dan logistic regression. jenis regulasi yang digunakan adalah ridge regression dan lasso regression. regularization digunakan untuk membuat bias dan memperbesar variance pada data training yang harapannya dapat meningkatkan akurasi model pada data testing"
      ]
    },
    {
      "cell_type": "markdown",
      "metadata": {
        "id": "6plcTwbDCcI1"
      },
      "source": [
        "#### 4. Evaluasi Model"
      ]
    },
    {
      "cell_type": "markdown",
      "metadata": {
        "id": "YmDemxdtCcI1"
      },
      "source": [
        "Evaluasi digunakan untuk menguur performa model yang dihasilkan. Evaluasi data model menggunakan data testing. evaluasi model akan memberikan gambaran kemampuan model jika digunakan dalam studi kasus nyata. evaluasi model yang digunakan adalah RMSE, MAE, dan R2 score."
      ]
    },
    {
      "cell_type": "markdown",
      "metadata": {
        "id": "cG8aYjpJCcI1"
      },
      "source": [
        "#### 5. Hyperparameter Tuning"
      ]
    },
    {
      "cell_type": "markdown",
      "metadata": {
        "id": "mcdPBewXCcI1"
      },
      "source": [
        "Hyperparameter tuning digunakan utnuk meningkatkan performa model. jenis hyperparameter tuning pada setiap algoritma machine learning akan berbeda pada satu dengan yang lainnya. jenis hyper parameter yang dapat digunakan dalam linear model contohnya adalah nilai alpha dan jenis solver."
      ]
    },
    {
      "cell_type": "markdown",
      "metadata": {
        "id": "M4ppveWqCcI1"
      },
      "source": [
        "#### 6. Prediksi"
      ]
    },
    {
      "cell_type": "markdown",
      "metadata": {
        "id": "cPfDTNQhCcI1"
      },
      "source": [
        "Model machine learning yang telah baik ditandai memiliki nilai R2 yang mendekati 1 dan tidak ada angka yang terlalu besar atau kecil terhadap pemodelan machine learning train dan test atau tidak terjadi overfiting/underfiting."
      ]
    },
    {
      "cell_type": "markdown",
      "metadata": {
        "id": "jZaAKxN_CcI1"
      },
      "source": [
        "## Model akhir yang dipilih"
      ]
    },
    {
      "cell_type": "markdown",
      "metadata": {
        "id": "96Y3GmVsCcI2"
      },
      "source": [
        "Random Forest + Hyperparameter Tunning"
      ]
    }
  ],
  "metadata": {
    "interpreter": {
      "hash": "b3ba2566441a7c06988d0923437866b63cedc61552a5af99d1f4fb67d367b25f"
    },
    "kernelspec": {
      "display_name": "Python 3 (ipykernel)",
      "language": "python",
      "name": "python3"
    },
    "language_info": {
      "codemirror_mode": {
        "name": "ipython",
        "version": 3
      },
      "file_extension": ".py",
      "mimetype": "text/x-python",
      "name": "python",
      "nbconvert_exporter": "python",
      "pygments_lexer": "ipython3",
      "version": "3.8.5"
    },
    "colab": {
      "name": "fix_project-Copy2 (4).ipynb",
      "provenance": []
    }
  },
  "nbformat": 4,
  "nbformat_minor": 0
}